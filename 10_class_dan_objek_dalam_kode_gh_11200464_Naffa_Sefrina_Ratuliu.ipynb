{
  "cells": [
    {
      "cell_type": "code",
      "execution_count": null,
      "metadata": {
        "id": "iikHUtEExLIP"
      },
      "outputs": [],
      "source": [
        ""
      ]
    },
    {
      "cell_type": "markdown",
      "metadata": {
        "id": "bUB6YkbKzq6e"
      },
      "source": [
        "\n",
        "\n",
        "---\n",
        "\n"
      ]
    },
    {
      "cell_type": "markdown",
      "metadata": {
        "id": "7QbClP-5yKVi"
      },
      "source": [
        "### Petunjuk Penting !!\n",
        "\n",
        "####  Lakukan Inisialisasi Java Kompailer untuk Google Colab\n",
        "Notebook ini menggunakan Java di Google Colaboratory sebagai kompailer. Untuk itu lakukan dua langkah dibawah ini sebelum anda bekerja dengan notebook ini\n",
        "\n",
        "1. Jalankan perintah pada cell diabawah ini (klik tombol run atau tekan tombol `Shift`+`Enter` secara bersamaan)"
      ]
    },
    {
      "cell_type": "code",
      "execution_count": 1,
      "metadata": {
        "id": "lUr92Wb1yzXm",
        "colab": {
          "base_uri": "https://localhost:8080/"
        },
        "outputId": "3a55a0d9-d435-4bd6-8e32-36b004cbc27c"
      },
      "outputs": [
        {
          "output_type": "stream",
          "name": "stdout",
          "text": [
            "Get:1 http://security.ubuntu.com/ubuntu bionic-security InRelease [88.7 kB]\n",
            "Hit:2 http://archive.ubuntu.com/ubuntu bionic InRelease\n",
            "Get:3 http://archive.ubuntu.com/ubuntu bionic-updates InRelease [88.7 kB]\n",
            "Hit:4 https://developer.download.nvidia.com/compute/cuda/repos/ubuntu1804/x86_64  InRelease\n",
            "Get:5 https://cloud.r-project.org/bin/linux/ubuntu bionic-cran40/ InRelease [3,626 B]\n",
            "Hit:6 http://ppa.launchpad.net/c2d4u.team/c2d4u4.0+/ubuntu bionic InRelease\n",
            "Get:7 http://archive.ubuntu.com/ubuntu bionic-backports InRelease [74.6 kB]\n",
            "Ign:8 https://developer.download.nvidia.com/compute/machine-learning/repos/ubuntu1804/x86_64  InRelease\n",
            "Hit:9 https://developer.download.nvidia.com/compute/machine-learning/repos/ubuntu1804/x86_64  Release\n",
            "Hit:10 http://ppa.launchpad.net/cran/libgit2/ubuntu bionic InRelease\n",
            "Hit:11 http://ppa.launchpad.net/deadsnakes/ppa/ubuntu bionic InRelease\n",
            "Hit:12 http://ppa.launchpad.net/graphics-drivers/ppa/ubuntu bionic InRelease\n",
            "Get:13 http://security.ubuntu.com/ubuntu bionic-security/main amd64 Packages [2,861 kB]\n",
            "Get:14 http://security.ubuntu.com/ubuntu bionic-security/universe amd64 Packages [1,521 kB]\n",
            "Get:15 http://security.ubuntu.com/ubuntu bionic-security/multiverse amd64 Packages [22.8 kB]\n",
            "Get:16 http://security.ubuntu.com/ubuntu bionic-security/restricted amd64 Packages [1,006 kB]\n",
            "Get:17 http://archive.ubuntu.com/ubuntu bionic-updates/universe amd64 Packages [2,297 kB]\n",
            "Get:18 http://archive.ubuntu.com/ubuntu bionic-updates/main amd64 Packages [3,294 kB]\n",
            "Get:19 http://archive.ubuntu.com/ubuntu bionic-updates/multiverse amd64 Packages [29.8 kB]\n",
            "Get:20 http://archive.ubuntu.com/ubuntu bionic-updates/restricted amd64 Packages [1,040 kB]\n",
            "Get:21 http://archive.ubuntu.com/ubuntu bionic-backports/main amd64 Packages [12.2 kB]\n",
            "Fetched 12.3 MB in 4s (3,235 kB/s)\n",
            "Reading package lists...\n",
            "Building dependency tree...\n",
            "Reading state information...\n",
            "49 packages can be upgraded. Run 'apt list --upgradable' to see them.\n",
            "Reading package lists...\n",
            "Building dependency tree...\n",
            "Reading state information...\n",
            "openjdk-11-jdk-headless is already the newest version (11.0.15+10-0ubuntu0.18.04.1).\n",
            "The following package was automatically installed and is no longer required:\n",
            "  libnvidia-common-460\n",
            "Use 'apt autoremove' to remove it.\n",
            "0 upgraded, 0 newly installed, 0 to remove and 49 not upgraded.\n",
            "  % Total    % Received % Xferd  Average Speed   Time    Time     Time  Current\n",
            "                                 Dload  Upload   Total   Spent    Left  Speed\n",
            "  0     0    0     0    0     0      0      0 --:--:-- --:--:-- --:--:--     0\n",
            "100 3287k  100 3287k    0     0  7386k      0 --:--:-- --:--:-- --:--:-- 7386k\n",
            "install.py:169: DeprecationWarning: replace is ignored. Installing a kernelspec always replaces an existing installation\n",
            "  replace=args.replace\n",
            "Installed java kernel into \"/usr/share/jupyter/kernels/java\"\n",
            "Available kernels:\n",
            "  ir         /usr/local/share/jupyter/kernels/ir\n",
            "  python3    /usr/local/share/jupyter/kernels/python3\n",
            "  java       /usr/share/jupyter/kernels/java\n"
          ]
        }
      ],
      "source": [
        "#perbarui daftar modul untuk memerikasa paket-paket yang perlu ditingkatkan\n",
        "!apt update -q\n",
        "\n",
        "#manambah modul Java Development Kit\n",
        "!apt-get install -q openjdk-11-jdk-headless\n",
        "\n",
        "#mengunduh kernel java\n",
        "!curl -L https://github.com/SpencerPark/IJava/releases/download/v1.3.0/ijava-1.3.0.zip -o ijava-kernel.zip\n",
        "\n",
        "#Ekstrak Kernel Java\n",
        "!unzip -q ijava-kernel.zip -d ijava-kernel && cd ijava-kernel && python3 install.py --sys-prefix\n",
        "\n",
        "#menampilkan spek. kernal dalam lis\n",
        "!jupyter kernelspec list"
      ]
    },
    {
      "cell_type": "markdown",
      "metadata": {
        "id": "05gvKabVzOQD"
      },
      "source": [
        "2. Kemudian refresh halaman notebook (page) (tekan tombol `F5`) atau that. atau tekan tombol refresh/reload. "
      ]
    },
    {
      "cell_type": "markdown",
      "metadata": {
        "id": "fizVCMLKzf8A"
      },
      "source": [
        "---\n"
      ]
    },
    {
      "cell_type": "markdown",
      "metadata": {
        "id": "VD3Bt8LiFs-E"
      },
      "source": [
        "# 12. Konsep Objek Dan Class Dalam Pemrograman\n",
        "\n",
        "Penerapan konsep Pemrograman Berorientasi Objek yang dari konsep nyata kedalam kaidah pemrograman.\n",
        "\n",
        "## 12.1 Tujuan\n",
        "Setelah mengikuti meteri ini mahasiswa diharapkan dapat :\n",
        "1. Memahami class dan obyek dalam pemrograman\n",
        "2. Pemrograman pembuatan class\n"
      ]
    },
    {
      "cell_type": "markdown",
      "metadata": {
        "id": "Xk1iUl0icR26"
      },
      "source": [
        "## 12.2 Uraian Materi\n",
        "\n",
        "### 12.2.1 Penerapan Class Dalam Kode\n",
        "\n",
        "**Latihan 1**\n",
        "\n",
        "Tulis dan jalankan kode *Program 12.1 Class Player* Berikut ini kemudian amati hasilnya\n",
        "\n",
        "**Program 12.1 Class Player**\n",
        "```javascript\n",
        "class Player {\n",
        "\n",
        "    // definisi atribut\n",
        "    String name;\n",
        "    int speed;\n",
        "    int BahanBakar;\n",
        "\n",
        "    // definisi method\n",
        "    // definisi method run\n",
        "    void run(){\n",
        "        System.out.println(name +\" class player berjalan...\");\n",
        "        System.out.println(\"Speed: \"+ speed);\n",
        "    }\n",
        "\n",
        "    // definisi method isDead untuk mengecek nilai kesehatan (BahanBakar)\n",
        "    boolean isDead(){\n",
        "        if(BahanBakar <= 0) return true;\n",
        "        return false;\n",
        "    }\n",
        "\n",
        "}\n",
        "\n",
        "Player objRacerSatu = new Player();\n",
        "\n",
        "objRacerSatu.name = \"Pembalap 1\";\n",
        "objRacerSatu.speed = 70;\n",
        "objRacerSatu.BahanBakar = 80;\n",
        "\n",
        "\n",
        "System.out.println(\"Fuel : \"+ objRacerSatu.BahanBakar);\n",
        "System.out.println(\"Speed : \"+ objRacerSatu.speed);\n",
        "\n",
        "objRacerSatu.run();\n",
        "\n",
        "if(objRacerSatu.isDead()){\n",
        "            System.out.println(\"Game Over!\");\n",
        "        }\n",
        "```"
      ]
    },
    {
      "cell_type": "code",
      "source": [
        "//Program 12.1 Class Player\n",
        "\n",
        "class Player {\n",
        "\n",
        "    // definisi atribut\n",
        "    String name;\n",
        "    int speed;\n",
        "    int BahanBakar;\n",
        "\n",
        "    // definisi method\n",
        "    // definisi method run\n",
        "    void run(){\n",
        "        System.out.println(name +\" class player berjalan...\");\n",
        "        System.out.println(\"Speed: \"+ speed);\n",
        "    }\n",
        "\n",
        "    // definisi method isDead untuk mengecek nilai kesehatan (BahanBakar)\n",
        "    boolean isDead(){\n",
        "        if(BahanBakar <= 0) return true;\n",
        "        return false;\n",
        "    }\n",
        "\n",
        "}\n",
        "\n",
        "Player objRacerSatu = new Player();\n",
        "\n",
        "objRacerSatu.name = \"Pembalap 1\";\n",
        "objRacerSatu.speed = 70;\n",
        "objRacerSatu.BahanBakar = 80;\n",
        "\n",
        "\n",
        "System.out.println(\"Fuel : \"+ objRacerSatu.BahanBakar);\n",
        "System.out.println(\"Speed : \"+ objRacerSatu.speed);\n",
        "\n",
        "objRacerSatu.run();\n",
        "\n",
        "if(objRacerSatu.isDead()){\n",
        "            System.out.println(\"Game Over!\");\n",
        "        }"
      ],
      "metadata": {
        "id": "1aZrLApSnb3T",
        "colab": {
          "base_uri": "https://localhost:8080/"
        },
        "outputId": "0efe6970-9f4a-4ff8-fd89-f3177e36f30e"
      },
      "execution_count": 3,
      "outputs": [
        {
          "output_type": "stream",
          "name": "stdout",
          "text": [
            "Fuel : 80\n",
            "Speed : 70\n",
            "Pembalap 1 class player berjalan...\n",
            "Speed: 70\n"
          ]
        }
      ]
    },
    {
      "cell_type": "markdown",
      "source": [
        "**Latihan 2**\n",
        "\n",
        "Tuliskan kembali kode *Program 12.2* dengan  mengganti nilai *BahanBakar* menjadi 0.\n",
        "```javascript\n",
        "objRacerSatu.BahanBakar = 0;\n",
        "```\n",
        "Kode lengkapnya adalah sebagai berikut.\n",
        "\n",
        "```javascript\n",
        "objRacerSatu.BahanBakar = 0;\n",
        "\n",
        "System.out.println(\"Bahan Bakar : \"+ objRacerSatu.BahanBakar);\n",
        "System.out.println(\"Speed : \"+ objRacerSatu.speed);\n",
        "\n",
        "objRacerSatu.run();\n",
        "\n",
        "if(objRacerSatu.isDead()){\n",
        "            System.out.println(\"Game Over!\");\n",
        "        }\n",
        "```\n",
        "Implementasi kode *Program 12.2* pada field kode dibawah ini amatilah hasilnya."
      ],
      "metadata": {
        "id": "oK9SxloG0FrT"
      }
    },
    {
      "cell_type": "code",
      "source": [
        "//Program 12.2\n",
        "\n",
        "objRacerSatu.BahanBakar = 0;\n",
        "\n",
        "System.out.println(\"Bahan Bakar : \"+ objRacerSatu.BahanBakar);\n",
        "System.out.println(\"Speed : \"+ objRacerSatu.speed);\n",
        "\n",
        "objRacerSatu.run();\n",
        "\n",
        "if(objRacerSatu.isDead()){\n",
        "            System.out.println(\"Game Over!\");\n",
        "        }"
      ],
      "metadata": {
        "id": "hP1gkr3B1qhr",
        "colab": {
          "base_uri": "https://localhost:8080/"
        },
        "outputId": "c496903a-8eca-4b04-bf5a-4a7113575dc4"
      },
      "execution_count": 5,
      "outputs": [
        {
          "output_type": "stream",
          "name": "stdout",
          "text": [
            "Bahan Bakar : 0\n",
            "Speed : 70\n",
            "Pembalap 1 class player berjalan...\n",
            "Speed: 70\n",
            "Game Over!\n"
          ]
        }
      ]
    },
    {
      "cell_type": "markdown",
      "source": [
        "## 12.2.2 Penjelasan Program\n",
        "Saat kita membuat sebuah class dengan nama **Player**. Maka Class ini bisa mendefinisikan objek - objek Player dalam Game dengan atribut sebagai berikut:\n",
        "\n",
        "* **name** adalah nama objek;\n",
        "* **speed** adalah kecepatan;\n",
        "* **BahanBakar** adalah nilai bahan bakar dari player.\n",
        "\n",
        "Lalu **class Player** memiliki method sebagai berikut:\n",
        "* **run()** untuk menggerakkan player;\n",
        "* **isDead()** untuk mengecek kondisi kesehatan player. Method ini akan mengembalikan nilai *true* apabila nilai *BahanBakar* lebih kecil atau sama dengan nol (0), sebaliknya akan mengembalikan nilai *false*.\n",
        "\n",
        "Berikutnya kita membuat objek baru dari class Player bernama *objRacerSatu*.\n",
        "\n",
        "```javascript\n",
        "// membuat objek player\n",
        "Player objRacerSatu = new Player();\n",
        "```\n",
        "\n",
        "Kata kunci *new* berfungsi untuk membuat objek baru dari class tertentu.\n",
        "\n",
        "Setelah membuat objek, kita bisa mengakses atribut dan method dari objek tersebut.\n",
        "\n",
        "Contoh:\n",
        "```javascript\n",
        "namaObj.namaMethod();\n",
        "namaObj.atribut1;\n",
        "```\n",
        "Tanda titik (.) berfungsi untuk mengakses atribut dan method. Maka akses objek *objRacerSatu* dapat dilakukan sebagai berikut\n",
        "\n",
        "```javascript\n",
        "// akse objek player\n",
        "objRacerSatu.name = \"Pembalap 1\";\n",
        "objRacerSatu.Speed = 70;\n",
        "objRacerSatu.BahanBakar = 80;\n",
        "\n",
        "objRacerSatu.Run();\n",
        "\n",
        "```\n",
        "Visualisasi objek *objRacerSatu* yang tercipta adalah sebagai berikut : \n",
        "![Objek Car Run](https://raw.githubusercontent.com/rahmadsa/Pemrograman-Java/9108e2bcbca47f9738879dc09be439d7832c03ad/images/carrun.png)\n",
        "\n",
        "\n",
        "Berikutnya kita coba modifikasi nilai *BahanBakar* menjadi nol.\n",
        "\n",
        "Hasilnya, pesan Game Over! akan ditampilkan. Karena method isDead() akan mengembalikan nilai true jika nilai *BahanBakar* kurang atau sama dengan nol.\n",
        "\n",
        "![Objek Car Stop](https://raw.githubusercontent.com/rahmadsa/Pemrograman-Java/9108e2bcbca47f9738879dc09be439d7832c03ad/images/carstop.png)\n",
        "\n"
      ],
      "metadata": {
        "id": "hKrfMkhe3DC9"
      }
    },
    {
      "cell_type": "markdown",
      "source": [
        "**Latihan 3**\n",
        "\n",
        "*Program 12.3*  Tuliskan kode  untuk *class Drone* dengan struktur kompunen sebagai berikut:\n",
        "\n",
        "\n",
        "| **Class Drone** ||\n",
        "| ----------- | ----------- |\n",
        "| **Atribute :** | |\n",
        "| | energi |\n",
        "| | ketinggian |\n",
        "| | kecepatan | \n",
        "| | merek |\n",
        "| **Method :** | |\n",
        "| |  terbang | \n",
        "| |  matikanMesin | \n",
        "| |  belokKanan | \n",
        "| |  belokKiri | \n",
        "| |  Maju | \n",
        "| |  Mundur | \n",
        "| ---------------- | ------------------------ |\n"
      ],
      "metadata": {
        "id": "atCSoEtKZvT2"
      }
    },
    {
      "cell_type": "code",
      "source": [
        "//Jawab Program 12.3 \n",
        "\n",
        "class Drone {\n",
        "\n",
        "    // definisi atribut\n",
        "    String merek;\n",
        "    int energi;\n",
        "    int ketinggian;\n",
        "    int kecepatan;\n",
        "\n",
        "    // definisi method\n",
        "    // definisi method run\n",
        "    void run(){\n",
        "        System.out.println(merek +\" class drone berjalan...\");\n",
        "        System.out.println(\"kecepatan: \"+ kecepatan);\n",
        "    }\n",
        "\n",
        "    // definisi method isDead untuk mengecek nilai (energi)\n",
        "    boolean isDead(){\n",
        "        if(energi <= 0) return true;\n",
        "        return false;\n",
        "    }\n",
        "\n",
        "}\n",
        "\n",
        "Drone objRacerSatu = new Drone();\n",
        "\n",
        "objRacerSatu.merek = \"Drone 1\";\n",
        "objRacerSatu.energi = 0;\n",
        "objRacerSatu.ketinggian = 60;\n",
        "objRacerSatu.kecepatan = 80;\n",
        "\n",
        "\n",
        "System.out.println(\"energi : \"+ objRacerSatu.energi);\n",
        "System.out.println(\"ketinggian : \"+ objRacerSatu.ketinggian);\n",
        "System.out.println(\"kecepatan : \"+ objRacerSatu.kecepatan);\n",
        "\n",
        "objRacerSatu.run();\n",
        "\n",
        "if(objRacerSatu.isDead()){\n",
        "            System.out.println(\"Game Over!\");\n",
        "        }"
      ],
      "metadata": {
        "id": "Nm3UH-gndxfY",
        "colab": {
          "base_uri": "https://localhost:8080/"
        },
        "outputId": "7d4f99f5-b03e-4299-bbd1-73d66f5ccadc"
      },
      "execution_count": 28,
      "outputs": [
        {
          "output_type": "stream",
          "name": "stdout",
          "text": [
            "energi : 0\n",
            "ketinggian : 60\n",
            "kecepatan : 80\n",
            "Drone 1 class drone berjalan...\n",
            "kecepatan: 80\n",
            "Game Over!\n"
          ]
        }
      ]
    },
    {
      "cell_type": "markdown",
      "source": [
        "### 12.2.3 Menentukan Atribut dan Method dari Objek\n",
        "\n",
        "Setiap objek memiliki data (atribut) dan operasi (fungsi).\n",
        "\n",
        "> **Atribut** adalah merupakan ciri-ciri dari objek.\n",
        "\n",
        "> **Method** adalah merupakan tingkah laku atau operasi.\n",
        "Contoh:\n",
        "\n",
        "Berikut ini adalah class dari objek **Senjata**.\n",
        "\n",
        "Dari ciri-ciri **Senjata** berikut data yang bisa dijadikan atribut.\n",
        "* jumlah peluru\n",
        "* jenis\n",
        "* nama senjata\n",
        "* berat\n",
        "* warna\n",
        "\n",
        "Kemudian **Senjata**  memiliki operasi (fungsi) yang bisa dilakukan sebegai berikut.\n",
        "* tembak()\n",
        "* lempar()\n",
        "* kurangiPeluru()\n",
        "* reload()\n",
        "\n",
        "![Objek Car](https://raw.githubusercontent.com/rahmadsa/Pemrograman-Java/9108e2bcbca47f9738879dc09be439d7832c03ad/images/gun.png)\n",
        "\n",
        "Maka implementasi kode dari class **Senjata** adalah seperti berikut:\n",
        "```javascript\n",
        "class Senjata {\n",
        "    // atribut\n",
        "    String nama;\n",
        "    int jumlahPeluru;\n",
        "    \n",
        "    // method\n",
        "    void tembak(){\n",
        "        //..\n",
        "        // setelah nembak, kurangi peluru\n",
        "        jumlahPeluru--;\n",
        "    }\n",
        "\n",
        "    void reload(){\n",
        "        //..\n",
        "        // kalau di-reload maka jumlah peluru diisi ulang\n",
        "        jumlahPeluru = 300;\n",
        "    }\n",
        "}\n",
        "```"
      ],
      "metadata": {
        "id": "1PWK4u_TeD9K"
      }
    },
    {
      "cell_type": "markdown",
      "source": [
        "### 12.13 Konstruktor Class\n",
        "\n",
        "*Constructor* adalah method atau fungsi juga tetapi memiliki karakteristik khusus. \n",
        "\n",
        "> construktor akan dieksekusi pada saat pembuatan objek (instance).\n",
        "\n",
        "> constructor adalah method tetapi nama constructor harus sama seperti nama class.\n",
        "\n",
        "Biasanya method ini digunakan untuk inisialisasi atau mempersiapkan data untuk objek.\n",
        "\n"
      ],
      "metadata": {
        "id": "lAF9bClaYrTx"
      }
    },
    {
      "cell_type": "markdown",
      "source": [
        "### 12.13.1 Contoh Penggunaan Construktor \n",
        "Berikut ini adalah kode contoh penggunaan construktor untuk class Player.\n",
        "```javascript\n",
        "class Player {\n",
        "\n",
        "    // definisi atribut\n",
        "    String name;\n",
        "    int speed;\n",
        "    int healthPoin;\n",
        "\n",
        "    // definisi method\n",
        "    // definisi konstruktor\n",
        "    Player(){\n",
        "      System.out.println(\"Construktor class berjalan...\");\n",
        "    }\n",
        "\n",
        "    // definisi method run\n",
        "    void run(){\n",
        "        System.out.println(name +\" class player berjalan...\");\n",
        "        System.out.println(\"Speed: \"+ speed);\n",
        "    }\n",
        "\n",
        "    // definisi method isDead \n",
        "    boolean isDead(){\n",
        "        if(healthPoin <= 0) return true;\n",
        "        return false;\n",
        "    }\n",
        "}\n",
        "\n",
        "// Implementasi penggunaan objek\n",
        "\n",
        "Player objRacerSatu = new Player();\n",
        "\n",
        "objRacerSatu.name = \"Pembalap 1\";\n",
        "objRacerSatu.speed = 70;\n",
        "objRacerSatu.healthPoin = 80;\n",
        "\n",
        "objRacerSatu.run();\n",
        "```"
      ],
      "metadata": {
        "id": "EbJDzeJidVeq"
      }
    },
    {
      "cell_type": "markdown",
      "source": [
        "## 12.14 Constructor dengan Parameter\n",
        "Constructor biasanya digunakan untuk *initialize* (menyiapkan) data class atau sebagai trigger.\n",
        "\n",
        "Untuk melakukan ini, kita harus membuat parameter sebagai inputan untuk constructor.\n",
        "\n",
        "Contoh:\n",
        "```javascript\n",
        "class Player {\n",
        "\n",
        "    // definisi atribut\n",
        "    String name;\n",
        "    int speed;\n",
        "    int healthPoin;\n",
        "\n",
        "    // definisi konstruktor\n",
        "\t Player(String pName, int pSpeed, int pHealthPoin ){\n",
        "\t \n",
        "      System.out.println(\"Construktor class  dengan parameter berjalan...\");\n",
        "    }\n",
        "}\n",
        "```\n",
        "\n",
        "Pada kode class User di atas, kita menambahkan parameter name, speed dan healthPoin ke dalam constructor.\n",
        "\n",
        "Berarti nanti saat kita membuat objek, kita harus menambahkan nilai parameter seperti ini:\n",
        "```javascript\n",
        "Player petani = new Player(\"Pembalap 2\", 80, 90);\n",
        "```\n",
        "Contoh Kode lengkapnya adalah sebagai berikut.\n",
        "\n",
        "**Program 12.4 Construktor dengan parameter**\n",
        "```javascript\n",
        "class Player {\n",
        "\n",
        "    // definisi atribut\n",
        "    String name;\n",
        "    int speed;\n",
        "    int healthPoin;\n",
        "\n",
        "    // definisi method\n",
        "    // definisi konstruktor\n",
        "    Player(){\n",
        "      System.out.println(\"Construktor class berjalan...\");\n",
        "    }\n",
        "\t\n",
        "\t Player(String pName, int pSpeed, int pHealthPoin ){\n",
        "          name = pName;\n",
        "          speed = pSpeed;\n",
        "          healthPoin = pHealthPoin;\n",
        "\t\t  \n",
        "\t\t  System.out.println(\"Construktor class  dengan parameter berjalan...\");\n",
        "    }\n",
        "\n",
        "    // definisi method run\n",
        "    void run(){\n",
        "        System.out.println(name +\" class player berjalan...\");\n",
        "        System.out.println(\"Speed: \"+ speed);\n",
        "    }\n",
        "\n",
        "    // definisi method isDead \n",
        "    boolean isDead(){\n",
        "        if(healthPoin <= 0) return true;\n",
        "        return false;\n",
        "    }\n",
        "}\n",
        "```\n",
        "Untuk implementasi dari class diatas adalah sebagai berikut:\n",
        "```javascript\n",
        "// Implementasi penggunaan objek\n",
        "\n",
        "//Objek objRacerSatu \n",
        "Player objRacerSatu = new Player();\n",
        "\n",
        "objRacerSatu.name = \"Pembalap 1\";\n",
        "objRacerSatu.speed = 70;\n",
        "objRacerSatu.healthPoin = 80;\n",
        "\n",
        "objRacerSatu.run()\n",
        "\n",
        "//Objek objRacerDua\n",
        "Player objRacerDua = new Player(\"Pembalap 2\", 80, 90);\n",
        "objRacerDua.run()\n",
        "```\n",
        "**Latihan 4**\n",
        "\n",
        "Implementasi kode *Program 12.4* pada field kode dibawah ini amatilah hasilnya."
      ],
      "metadata": {
        "id": "iC7B36OR7p-a"
      }
    },
    {
      "cell_type": "code",
      "source": [
        "//Program 12.4\n",
        "\n",
        "class Player {\n",
        "\n",
        "    // definisi atribut\n",
        "    String name;\n",
        "    int speed;\n",
        "    int healthPoin;\n",
        "\n",
        "    // definisi method\n",
        "    // definisi konstruktor\n",
        "    Player(){\n",
        "      System.out.println(\"Construktor class berjalan...\");\n",
        "    }\n",
        "\n",
        "     Player(String pName, int pSpeed, int pHealthPoin ){\n",
        "          name = pName;\n",
        "          speed = pSpeed;\n",
        "          healthPoin = pHealthPoin;\n",
        "\n",
        "          System.out.println(\"Construktor class  dengan parameter berjalan...\");\n",
        "    }\n",
        "\n",
        "    // definisi method run\n",
        "    void run(){\n",
        "        System.out.println(name +\" class player berjalan...\");\n",
        "        System.out.println(\"Speed: \"+ speed);\n",
        "    }\n",
        "\n",
        "    // definisi method isDead \n",
        "    boolean isDead(){\n",
        "        if(healthPoin <= 0) return true;\n",
        "        return false;\n",
        "    }\n",
        "}\n",
        "\n",
        "\n",
        "// Implementasi penggunaan objek\n",
        "\n",
        "//Objek objRacerSatu \n",
        "Player objRacerSatu = new Player();\n",
        "\n",
        "objRacerSatu.name = \"Pembalap 1\";\n",
        "objRacerSatu.speed = 70;\n",
        "objRacerSatu.healthPoin = 80;\n",
        "\n",
        "objRacerSatu.run();\n",
        "\n",
        "//Objek objRacerDua\n",
        "Player objRacerDua = new Player(\"Pembalap 2\", 80, 90);\n",
        "objRacerDua.run();"
      ],
      "metadata": {
        "id": "Wier6FGT9Y7_",
        "colab": {
          "base_uri": "https://localhost:8080/"
        },
        "outputId": "f07ba220-65b6-49f4-80c7-2ec57e8db415"
      },
      "execution_count": 41,
      "outputs": [
        {
          "output_type": "stream",
          "name": "stdout",
          "text": [
            "Construktor class berjalan...\n",
            "Pembalap 1 class player berjalan...\n",
            "Speed: 70\n",
            "Construktor class  dengan parameter berjalan...\n",
            "Pembalap 2 class player berjalan...\n",
            "Speed: 80\n"
          ]
        }
      ]
    }
  ],
  "metadata": {
    "colab": {
      "collapsed_sections": [],
      "name": "10_class_dan_objek_dalam_kode_gh_11200464_Naffa Sefrina Ratuliu.ipynb",
      "provenance": []
    },
    "kernelspec": {
      "display_name": "Java",
      "language": "java",
      "name": "java"
    },
    "language_info": {
      "codemirror_mode": "java",
      "file_extension": ".jshell",
      "mimetype": "text/x-java-source",
      "name": "java",
      "pygments_lexer": "java",
      "version": "17.0.1+12-LTS-39"
    },
    "toc": {
      "base_numbering": 1,
      "nav_menu": {},
      "number_sections": false,
      "sideBar": false,
      "skip_h1_title": false,
      "title_cell": "Table of Contents",
      "title_sidebar": "Contents",
      "toc_cell": false,
      "toc_position": {},
      "toc_section_display": false,
      "toc_window_display": false
    }
  },
  "nbformat": 4,
  "nbformat_minor": 0
}