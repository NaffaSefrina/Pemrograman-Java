{
  "nbformat": 4,
  "nbformat_minor": 0,
  "metadata": {
    "colab": {
      "name": "2_operator_di_pemrograman_java_11200464_Naffa Sefrina Ratuliu.ipynb",
      "provenance": [],
      "collapsed_sections": [],
      "toc_visible": true
    },
    "kernelspec": {
      "name": "java",
      "display_name": "Java"
    },
    "language_info": {
      "name": "java"
    }
  },
  "cells": [
    {
      "cell_type": "code",
      "metadata": {
        "id": "iikHUtEExLIP"
      },
      "source": [
        ""
      ],
      "execution_count": null,
      "outputs": []
    },
    {
      "cell_type": "markdown",
      "metadata": {
        "id": "bUB6YkbKzq6e"
      },
      "source": [
        "\n",
        "\n",
        "---\n",
        "\n"
      ]
    },
    {
      "cell_type": "markdown",
      "metadata": {
        "id": "7QbClP-5yKVi"
      },
      "source": [
        "#Petunjuk Penting !!\n",
        "\n",
        "## Lakukan Inisialisasi Java Kompailer untuk Google Colab\n",
        "Notebook ini menggunakan Java di Google Colaboratory sebagai kompailer. Untuk itu lakukan dua langkah dibawah ini sebelum anda bekerja dengan notebook ini\n",
        "\n",
        "1. Jalankan perintah pada cell diabawah ini (klik tombol run atau tekan tombol `Shift`+`Enter` secara bersamaan)"
      ]
    },
    {
      "cell_type": "code",
      "metadata": {
        "id": "lUr92Wb1yzXm",
        "colab": {
          "base_uri": "https://localhost:8080/"
        },
        "outputId": "bb16f4ce-3f70-48a7-ebe0-00de437f8d8f"
      },
      "source": [
        "#perbarui daftar modul untuk memerikasa paket-paket yang perlu ditingkatkan\n",
        "!apt update -q\n",
        "\n",
        "#manambah modul Java Development Kit\n",
        "!apt-get install -q openjdk-11-jdk-headless\n",
        "\n",
        "#mengunduh kernel java\n",
        "!curl -L https://github.com/SpencerPark/IJava/releases/download/v1.3.0/ijava-1.3.0.zip -o ijava-kernel.zip\n",
        "\n",
        "#Ekstrak Kernel Java\n",
        "!unzip -q ijava-kernel.zip -d ijava-kernel && cd ijava-kernel && python3 install.py --sys-prefix\n",
        "\n",
        "#menampilkan spek. kernal dalam lis\n",
        "!jupyter kernelspec list"
      ],
      "execution_count": null,
      "outputs": [
        {
          "output_type": "stream",
          "name": "stdout",
          "text": [
            "Get:1 https://cloud.r-project.org/bin/linux/ubuntu bionic-cran40/ InRelease [3,626 B]\n",
            "Ign:2 https://developer.download.nvidia.com/compute/cuda/repos/ubuntu1804/x86_64  InRelease\n",
            "Ign:3 https://developer.download.nvidia.com/compute/machine-learning/repos/ubuntu1804/x86_64  InRelease\n",
            "Get:4 https://developer.download.nvidia.com/compute/cuda/repos/ubuntu1804/x86_64  Release [696 B]\n",
            "Hit:5 https://developer.download.nvidia.com/compute/machine-learning/repos/ubuntu1804/x86_64  Release\n",
            "Get:6 https://developer.download.nvidia.com/compute/cuda/repos/ubuntu1804/x86_64  Release.gpg [836 B]\n",
            "Hit:7 http://archive.ubuntu.com/ubuntu bionic InRelease\n",
            "Get:8 http://security.ubuntu.com/ubuntu bionic-security InRelease [88.7 kB]\n",
            "Get:9 http://ppa.launchpad.net/c2d4u.team/c2d4u4.0+/ubuntu bionic InRelease [15.9 kB]\n",
            "Get:10 http://archive.ubuntu.com/ubuntu bionic-updates InRelease [88.7 kB]\n",
            "Hit:12 http://ppa.launchpad.net/cran/libgit2/ubuntu bionic InRelease\n",
            "Get:13 https://developer.download.nvidia.com/compute/cuda/repos/ubuntu1804/x86_64  Packages [953 kB]\n",
            "Get:14 http://archive.ubuntu.com/ubuntu bionic-backports InRelease [74.6 kB]\n",
            "Get:15 http://ppa.launchpad.net/deadsnakes/ppa/ubuntu bionic InRelease [15.9 kB]\n",
            "Hit:16 http://ppa.launchpad.net/graphics-drivers/ppa/ubuntu bionic InRelease\n",
            "Get:17 http://security.ubuntu.com/ubuntu bionic-security/main amd64 Packages [2,695 kB]\n",
            "Get:18 http://ppa.launchpad.net/c2d4u.team/c2d4u4.0+/ubuntu bionic/main Sources [1,947 kB]\n",
            "Get:19 http://archive.ubuntu.com/ubuntu bionic-updates/main amd64 Packages [3,134 kB]\n",
            "Get:20 http://security.ubuntu.com/ubuntu bionic-security/universe amd64 Packages [1,490 kB]\n",
            "Get:21 http://archive.ubuntu.com/ubuntu bionic-updates/universe amd64 Packages [2,268 kB]\n",
            "Get:22 http://ppa.launchpad.net/c2d4u.team/c2d4u4.0+/ubuntu bionic/main amd64 Packages [996 kB]\n"
          ]
        }
      ]
    },
    {
      "cell_type": "markdown",
      "metadata": {
        "id": "05gvKabVzOQD"
      },
      "source": [
        "2. Kemudian refresh halaman notebook (page) (tekan tombol `F5`) atau that. atau tekan tombol refresh/reload. "
      ]
    },
    {
      "cell_type": "markdown",
      "metadata": {
        "id": "fizVCMLKzf8A"
      },
      "source": [
        "---\n"
      ]
    },
    {
      "cell_type": "markdown",
      "metadata": {
        "id": "i-nyUyjWfuwR"
      },
      "source": [
        "#3. Operator Pemrograman\n",
        "\n",
        "Dalam Java, ada beberapa tipe operator. Ada operator aritmatika, operator relasi, operator logika, dan operator kondisi. Operator ini mengikuti bermacam-macam prioritas yang pasti sehingga compilernya akan tahu yang mana operator untuk dijalankan lebih dulu dalam kasus beberapa operator yang dipakai bersama-sama dalam satu pernyataan.\n",
        "\n",
        "Ada enam jenis kelompok operator dalam pemrograman Java:\n",
        "1. Operator Artimatika;\n",
        "2. Operator Penugasan;\n",
        "3. Operator Pembanding;\n",
        "4. Operator Logika;\n",
        "5. Operator Bitwise;\n",
        "6. dan Operator Ternary.\n",
        "\n",
        "\n"
      ]
    },
    {
      "cell_type": "markdown",
      "metadata": {
        "id": "qnRQghaAg1VX"
      },
      "source": [
        "## 3.1 Operator Aritmetika\n",
        "### 3.1.1 Penjelasan Operator Aritmetika\n",
        "Berikut ini adalah dasar operator aritmatika yang dapat digunakan untuk membuat suatu program Java,\n",
        "\n",
        "|Operator |\tPenggunaan  |\t\tKeterangan  |\t\n",
        "|:-------:|:-----------:|---------------|\t\t\t\t\t\n",
        "|   +\t    |\top1 + op2\t\t| Menambahkan op1 dengan op2|\n",
        "|   *     | op1 * op2\t\t| Mengalikan op1 dengan op2|\t\n",
        "|   / \t\t| op1 / op2\t\t| Membagi op1 dengan op2|\t\n",
        "|   %\t\t  | op1 % op2\t\t| Menghitung  sisa  dari| pembagian  op1\tdengan op2 |\t\n",
        "|-\t\t    |op1 - op2\t|\tMengurangkan op2 dari op1|\t\n",
        "Tabel 3: Operator Aritmatika dan fungsi-fungsinya\t\n",
        "\n",
        "\n",
        "\n",
        "\n"
      ]
    },
    {
      "cell_type": "markdown",
      "metadata": {
        "id": "B6CqN0ZsjPQU"
      },
      "source": [
        "### 3.1.2 Penggunaan Operator Aritmetika\n",
        "Untuk berlatih lakukan eksekusi pada baris kode dibawah ini dengan menekan tombol >\n",
        "\n",
        "**Program 3.1** Program Operator Aritmetika"
      ]
    },
    {
      "cell_type": "code",
      "metadata": {
        "id": "tiVHVzeYjP0W",
        "colab": {
          "base_uri": "https://localhost:8080/"
        },
        "outputId": "1493b56e-0cf6-4246-d1ed-1abd57eee8ab"
      },
      "source": [
        "//sedikit angka\n",
        "\n",
        "int i = 37;\n",
        "\n",
        "int j = 42;\n",
        "double x = 27.475;\n",
        "double y = 7.22;\n",
        "System.out.println(\"Variable values...\");\n",
        "System.out.println(\"\ti = \" + i);\n",
        "\n",
        "System.out.println(\"\tj = \" + j);\n",
        "System.out.println(\"\tx = \" + x);\n",
        "System.out.println(\"\ty = \" + y); //penjumlahan angka\n",
        "System.out.println(\"Adding...\");\n",
        "System.out.println(\"\ti + j = \" + (i + j));\n",
        "\n",
        "System.out.println(\"\tx + y = \" + (x + y));\n",
        "\n",
        "//pengurangan angka\n",
        "\n",
        "System.out.println(\"Subtracting...\");\n",
        "System.out.println(\"\ti - j = \" + (i - j));\n",
        "\n",
        "System.out.println(\"\tx - y = \" + (x - y));\n",
        "\n",
        "//perkalian angka\n",
        "\n",
        "System.out.println(\"Multiplying...\");\n",
        "System.out.println(\"\ti * j = \" + (i * j));\n",
        "\n",
        "System.out.println(\"\tx * y = \" + (x * y));\n",
        "//pembagian angka\n",
        "System.out.println(\"Dividing...\");\n",
        "System.out.println(\"\ti / j = \" + (i / j));\n",
        "System.out.println(\"\tx / y = \" + (x / y));\n",
        "\n",
        "//menghitung hasil modulus dari pembagian System.out.println(\"Computing the remainder...\"); System.out.println(\" i % j = \" + (i % j)); System.out.println(\" x % y = \" + (x % y));\n",
        "\n",
        "//tipe penggabungan\n",
        "\n",
        "System.out.println(\"Mixing tipes...\");\n",
        "System.out.println(\"\tj + y = \" + (j + y));\n",
        "System.out.println(\"\ti * x = \" + (i * x));\n"
      ],
      "execution_count": null,
      "outputs": [
        {
          "output_type": "stream",
          "name": "stdout",
          "text": [
            "Variable values...\n",
            "\ti = 37\n",
            "\tj = 42\n",
            "\tx = 27.475\n",
            "\ty = 7.22\n",
            "Adding...\n",
            "\ti + j = 79\n",
            "\tx + y = 34.695\n",
            "Subtracting...\n",
            "\ti - j = -5\n",
            "\tx - y = 20.255000000000003\n",
            "Multiplying...\n",
            "\ti * j = 1554\n",
            "\tx * y = 198.36950000000002\n",
            "Dividing...\n",
            "\ti / j = 0\n",
            "\tx / y = 3.805401662049862\n",
            "Mixing tipes...\n",
            "\tj + y = 49.22\n",
            "\ti * x = 1016.575\n"
          ]
        }
      ]
    },
    {
      "cell_type": "markdown",
      "metadata": {
        "id": "sub1lo2rlUEr"
      },
      "source": [
        ">**Catatan:** Ketika integer dan floating-point number digunakan sebagai operand untuk operasi aritmatika tunggal, hasilnya berupa floating point. Integer adalah converter secara implisit ke bentuk angka floating-point sebelum operasi berperan mengambil tempat."
      ]
    },
    {
      "cell_type": "markdown",
      "metadata": {
        "id": "hLnWukL1j2Al"
      },
      "source": [
        "##3.2. Operator Penugasan\n",
        "Operator penugasan *(Assignment Operator)* fungsinya untuk meberikan tugas pada variabel tertentu. Biasanya untuk mengisi nilai.\n",
        "\n",
        "Contoh:\n",
        "\n",
        "\n",
        "```javascript\n",
        "int a = 10;\n",
        "```\n",
        "Variabel a ditugaskan untuk menyimpan nilai 10.\n",
        "###3.2.1 Tabel Operator Penugasan\n",
        "Operator Penugasan terdiri dari:\n",
        "\n",
        "|Nama |Operator Simbol|\n",
        "|-----|---------------|\n",
        "|Pengisian Nilai          |\t=  |\n",
        "|Pengisian dan Penambahan |\t+= |\n",
        "|Pengisian dan Pengurangan|\t-= |\n",
        "|Pengisian dan Perkalian  |\t*= |\n",
        "|Pengisian dan Pembagian  |\t/= |\n",
        "|Pengisian dan Sisa bagi\t| %= |\n"
      ]
    },
    {
      "cell_type": "markdown",
      "metadata": {
        "id": "bo8VVWcEk_Ou"
      },
      "source": [
        "### 3.2.2 Penggunaan Operator Penugasan\n",
        "Untuk berlatih lakukan eksekusi pada baris kode dibawah ini dengan menekan tombol >\n",
        "\n",
        "**Program 3.2** Program Operator Penugasan"
      ]
    },
    {
      "cell_type": "code",
      "metadata": {
        "id": "Z2aSZ1bgltx3",
        "colab": {
          "base_uri": "https://localhost:8080/"
        },
        "outputId": "94ed0920-aff7-4848-ea37-94551085c3d2"
      },
      "source": [
        "        int a;\n",
        "        int b;\n",
        "\n",
        "        // Pengisian nilai\n",
        "        a = 5;\n",
        "        b = 10;\n",
        "\n",
        "        // penambahan\n",
        "        b += a;\n",
        "        // sekarang b = 15\n",
        "        System.out.println(\"Penambahan : \" + b);\n",
        "\n",
        "        // pengurangan\n",
        "        b -= a;\n",
        "        // sekarang b = 10 (karena 15-5)\n",
        "        System.out.println(\"Pengurangan : \" + b);\n",
        "\n",
        "        // perkalian\n",
        "        b *= a;\n",
        "        // sekarang b = 50 (karena 10*5)\n",
        "        System.out.println(\"Perkalian : \" + b);\n",
        "\n",
        "        // Pembagian\n",
        "        b /= a;\n",
        "        // sekarang b=10\n",
        "        System.out.println(\"Pembagian : \" + b);\n",
        "\n",
        "        // Sisa bagi\n",
        "        b %= a;\n",
        "        // sekarang b=0\n",
        "        System.out.println(\"Sisa Bagi: \" + b);"
      ],
      "execution_count": null,
      "outputs": [
        {
          "output_type": "stream",
          "name": "stdout",
          "text": [
            "Penambahan : 15\n",
            "Pengurangan : 10\n",
            "Perkalian : 50\n",
            "Pembagian : 10\n",
            "Sisa Bagi: 0\n"
          ]
        }
      ]
    },
    {
      "cell_type": "markdown",
      "metadata": {
        "id": "Dewvv-BLoaqb"
      },
      "source": [
        "##3.3 Operator Pambanding\n",
        "Sepeti namanya, tugas oprator ini untuk membandingkan Operator ini juga dikenal dengan opeartor relasi.\n",
        "\n",
        "Nilai yang dihasilkan dari operator ini berupa *boolean*, yaitu: *true* dan *false*.\n",
        "###3.3.1 Tabel Operator Pembanding \n",
        "Operator ini terdiri dari:\n",
        "\n",
        "|Nama  |\tSimbol |\n",
        "|------|:-------:|\n",
        "|Lebih Besar|\t>  |\n",
        "|Lebih Kecil|\t<  |\n",
        "|Sama Dengan|\t== |\n",
        "|Tidak Sama dengan|\t!=|\n",
        "|Lebih Besar Sama dengan|\t>=|\n",
        "|Lebih Kecil Sama dengan|\t<=|\n",
        "\n",
        "contoh:\n",
        "```\n",
        "boolean x = 10 < 12\n",
        "```\n",
        "Maka *x* akan bernilai *true*, karena 10 lebih kecil dari 12.\n",
        "\n",
        "Untuk lebih mari kita uji dengan program dibawah ini\n",
        "### 3.3.2 Penggunaan Operator Pembanding\n",
        "Untuk berlatih lakukan eksekusi pada baris kode dibawah ini dengan menekan tombol >\n",
        "\n",
        "**Program 3.3** Program Operator Pembanding"
      ]
    },
    {
      "cell_type": "code",
      "metadata": {
        "id": "k5DMZgEWpDsY",
        "colab": {
          "base_uri": "https://localhost:8080/"
        },
        "outputId": "db4fc0ea-cf1a-400c-8fc4-50151a4f3706"
      },
      "source": [
        "       int nilaiA = 12;\n",
        "        int nilaiB = 4;\n",
        "        boolean hasil;\n",
        "\n",
        "        // apakah A lebih besar dari B?\n",
        "        hasil = nilaiA > nilaiB;\n",
        "        System.out.println(hasil);\n",
        "\n",
        "        // apakah A lebih kecil dari B?\n",
        "        hasil = nilaiA < nilaiB;\n",
        "        System.out.println(hasil);\n",
        "\n",
        "        // apakah A lebih besar samadengan B?\n",
        "        hasil = nilaiA >= nilaiB;\n",
        "        System.out.println(hasil);\n",
        "\n",
        "        // apakah A lebih kecil samadengan B?\n",
        "        hasil = nilaiA <= nilaiB;\n",
        "        System.out.println(hasil);\n",
        "\n",
        "        // apakah nilai A sama dengan B?\n",
        "        hasil = nilaiA == nilaiB;\n",
        "        System.out.println(hasil);\n",
        "\n",
        "        // apakah nilai A tidak samadengan B?\n",
        "        hasil = nilaiA != nilaiB;\n",
        "        System.out.println(hasil);"
      ],
      "execution_count": null,
      "outputs": [
        {
          "output_type": "stream",
          "name": "stdout",
          "text": [
            "true\n",
            "false\n",
            "true\n",
            "false\n",
            "false\n",
            "true\n"
          ]
        }
      ]
    },
    {
      "cell_type": "markdown",
      "metadata": {
        "id": "XlsC-qifnaz1"
      },
      "source": [
        "##3.4. Operator Logika\n",
        "Kalau kamu pernah belajar logika matematika, pasti tidak akan asing dengan operator ini.\n",
        "###3.4.1 Tabel Logika\n",
        "|Nama\t| Simbol di Java |\n",
        "|:---:|:--------------:|\n",
        "|Logika AND|\t&& |\n",
        "|Logika OR |\t|| |\n",
        "|Negasi/kebalikan|! |\n",
        "\n",
        "Operator Logika digunakan untuk membuat operasi logika.\n",
        "\n",
        "Misalnya seperti ini:\n",
        "\n",
        "```\n",
        "Pernyataan 1: Masiswa X seorang programmer\n",
        "Pernyattan 2: Masiswa X menggunakan Linux\n",
        "```\n",
        "\n",
        "Jika ditanya, apakah Petani Kode programmer yang menggunakan Linux?\n",
        "\n",
        "Tentu kita akan cek dulu kebenarannya\n",
        "```\n",
        "Pernyataan 1: Petani Kode seorang programmer = true.\n",
        "Pernyattan 2: Petanikode menggunakan Linux = true.\n",
        "```\n",
        "Apa petanikode programmer dan menggunakan Linux?\n",
        "```\n",
        "Pertnyataan 1 && Pernyataan 2 = true\n",
        "```\n",
        "Mari kita cek lagi tabel kebenaran untuk logika AND.\n",
        "\n",
        "|Pernyatan 1|\tPernytaan 2 |\tLogika AND |\n",
        "|:---------:|:----------:|:-----------:|\n",
        "|true |\ttrue |\ttrue  |\n",
        "|true\t| false|\tfalse |\n",
        "|false|\ttrue |\tfalse |\n",
        "|false| false|\tfalse |\n",
        "\n",
        "Lalu bagaimana implementasi di program? "
      ]
    },
    {
      "cell_type": "markdown",
      "metadata": {
        "id": "G4BSHsw1r2FI"
      },
      "source": [
        "### 3.4.2 Penggunaan Operator Pembanding\n",
        "Lakukan eksekusi pada baris kode dibawah ini dengan menekan tombol > Untuk berlatih \n",
        "\n",
        "**Program 3.4** Program Operator Logika"
      ]
    },
    {
      "cell_type": "code",
      "metadata": {
        "id": "TjDBPoJ6sBsu",
        "colab": {
          "base_uri": "https://localhost:8080/"
        },
        "outputId": "420ac39e-565a-4799-80d6-fc648d816c46"
      },
      "source": [
        "boolean a = true;\n",
        "boolean b = false;\n",
        "boolean c;\n",
        "\n",
        "//Konjungsi (AND)\n",
        "c = a && b;\n",
        "System.out.println(\"true && false hasil \"+c);\n",
        "\n",
        "//Djungsi (OR)\n",
        "c = a || b;\n",
        "System.out.println(\"true && false hasil \"+c);\n",
        "\n",
        "//Negasi (NOT)\n",
        "c = a && b;\n",
        "System.out.println(\"NOT True hasil \"+!a);"
      ],
      "execution_count": null,
      "outputs": [
        {
          "output_type": "stream",
          "name": "stdout",
          "text": [
            "true && false hasil false\n",
            "true && false hasil true\n",
            "NOT True hasil false\n"
          ]
        }
      ]
    },
    {
      "cell_type": "markdown",
      "metadata": {
        "id": "MAofGNtFuO-L"
      },
      "source": [
        "##3.5 Operator Bitwise\n",
        "\n",
        "Operator bitwise merupkan operator yang digunakan untuk operasi bit (biner). Operator bitwise terdiri dari:\n",
        "###3.5.1 Tabel Operator Bitwise\n",
        "\n",
        "|Nama|Simbol di Java|\n",
        "|:--:|:------------:|\n",
        "|AND |\t& |\n",
        "|OR\t | | |\n",
        "|XOR |\t^ |\n",
        "|Negasi/kebalikan |\t~ |\n",
        "|Left Shift |\t<< |\n",
        "|Right Shift |\t>> |\n",
        "|Left Shift (unsigned) |\t<<< |\n",
        "|Right Shift (unsigned)|\t>>> |\n",
        "\n",
        "Operator ini berlaku untuk tipe data *int, long, short, char,* dan *byte.*\n",
        "\n",
        "Operator ini akan menghitung dari bit-ke-bit.\n",
        "\n",
        "Misalnya, kita punya variabel a = 60 dan b = 13.\n",
        "\n",
        "Bila dibuat dalam bentuk biner, akan menjadi seperti ini:\n",
        "\n",
        "Bila dibuat dalam bentuk biner, akan menjadi seperti ini:\n",
        "```\n",
        "a = 00111100\n",
        "b = 00001101\n",
        "```\n",
        "Kemudian, dilakukan operasi bitwise\n",
        "\n",
        "Operasi AND\n",
        "```\n",
        "a = 00111100\n",
        "b = 00001101\n",
        "a & b = 00001100\n",
        "```\n",
        "Operasi OR\n",
        "```\n",
        "a = 00111100\n",
        "b = 00001101\n",
        "a | b = 00111101\n",
        "```\n",
        "Operasi XOR\n",
        "```\n",
        "a = 00111100\n",
        "b = 00001101\n",
        "a ^ b = 00110001\n",
        "```\n",
        "Opearsi NOT (Negasi/kebalikan)\n",
        "```\n",
        "a = 00111100\n",
        "~a  = 11000011\n",
        "```\n",
        "Konsepnya memang hampir sama dengan opeartor Logika. Bedanya, Bitwise digunakan untuk biner.\n",
        "\n",
        "### 3.5.2 Penggunaan Operator Pembanding\n",
        "Lakukan eksekusi pada baris kode dibawah ini dengan menekan tombol > Untuk berlatih \n",
        "\n",
        "**Program 3.5** Program Operator Bitwise"
      ]
    },
    {
      "cell_type": "code",
      "metadata": {
        "id": "npxgkkmsv6Qe",
        "colab": {
          "base_uri": "https://localhost:8080/"
        },
        "outputId": "0c40b240-983d-436c-9dbe-147d6a607f99"
      },
      "source": [
        "        int a = 60;    /* 60 = 0011 1100 */\n",
        "        int b = 13;    /* 13 = 0000 1101 */\n",
        "        int c = 0;\n",
        "\n",
        "        c = a & b;       /* 12 = 0000 1100 */\n",
        "        System.out.println(\"a & b = \" + c);\n",
        "\n",
        "        c = a | b;       /* 61 = 0011 1101 */\n",
        "        System.out.println(\"a | b = \" + c);\n",
        "\n",
        "        c = a ^ b;       /* 49 = 0011 0001 */\n",
        "        System.out.println(\"a ^ b = \" + c);\n",
        "\n",
        "        c = ~a;          /*-61 = 1100 0011 */\n",
        "        System.out.println(\"~a = \" + c);\n",
        "\n",
        "        c = a << 2;     /* 240 = 1111 0000 */\n",
        "        System.out.println(\"a << 2 = \" + c);\n",
        "\n",
        "        c = a >> 2;     /* 215 = 1111 */\n",
        "        System.out.println(\"a >> 2  = \" + c);\n",
        "\n",
        "        c = a >>> 2;     /* 215 = 0000 1111 */\n",
        "        System.out.println(\"a >>> 2 = \" + c);"
      ],
      "execution_count": null,
      "outputs": [
        {
          "output_type": "stream",
          "name": "stdout",
          "text": [
            "a & b = 12\n",
            "a | b = 61\n",
            "a ^ b = 49\n",
            "~a = -61\n",
            "a << 2 = 240\n",
            "a >> 2  = 15\n",
            "a >>> 2 = 15\n"
          ]
        }
      ]
    },
    {
      "cell_type": "markdown",
      "metadata": {
        "id": "9XKxDOQGwZIE"
      },
      "source": [
        "6. Operator Ternary\n",
        "Opertor ini unik, seperti membuat pertanyaan.\n",
        "\n",
        "Simbolnya menggunakan tanda tanya (?) dan titik-dua (:) untuk memisah jawabannya.\n",
        "\n",
        "\n",
        "```\n",
        "Kamu mahasiswa ?  Ya  : Tidak\n",
        "```\n",
        "\n",
        "|Pernyataan|Operator Ternari|Jawaban True|---|Jawaban Tidak|\n",
        "|-------------|--|----|---|------|\n",
        "|Kamu mahasiswa| ?|  Ya|  :| Tidak|\n",
        "\n",
        "Pada contoh di atas, “Kamu mahasiswa” adalah pertanyaan atau kondisi yang akan diperiksa.\n",
        "\n",
        "Kalau jawabannya benar, maka iya. Sebaliknya akan tidak.\n",
        "\n",
        "untuk lebih jelasnya, mari kita implementasikan dengan program berikut.\n",
        "\n",
        "\n",
        "Untuk berlatih lakukan eksekusi pada baris kode dibawah ini dengan menekan tombol >\n",
        "\n",
        "**Program 3.5** Program Operator Bitwise\n"
      ]
    },
    {
      "cell_type": "markdown",
      "metadata": {
        "id": "1BF-A0oPrBL_"
      },
      "source": [
        "## **Tugas II**\n",
        "\n",
        "**No. 1**\n",
        "\n",
        "Bagaimanakah hasil eksekusi kode dibawah ini? \n",
        "```javascript\n",
        "int a, b, c, d, e, f, g;\n",
        "double x, y, z;\n",
        "String one, two, both;\n",
        "\n",
        "a = 10;\n",
        "b = 27;\n",
        "\n",
        "System.out.println( \"a is \" + a + \", b is \" + b );\n",
        "\n",
        "c = a + b;\n",
        "System.out.println( \"a+b is \" + c );\n",
        "d = a - b;\n",
        "System.out.println( \"a-b is \" + d );\n",
        "e = a+b*3;\n",
        "System.out.println( \"a+b*3 is \" + e );\n",
        "f = b / 2;\n",
        "System.out.println( \"b/2 is \" + f );\n",
        "g = b % 10;\n",
        "System.out.println( \"b%10 is \" + g );\n",
        "\n",
        "x = 1.1;\n",
        "System.out.println( \"\\nx is \" + x );\n",
        "y = x*x;\n",
        "System.out.println( \"x*x is \" + y );\n",
        "z = b / 2;\n",
        "System.out.println( \"b/2 is \" + z );\n",
        "System.out.println();\n",
        "\n",
        "one = \"dog\";\n",
        "two = \"house\";\n",
        "both = one + two;\n",
        "System.out.println( both );\n",
        "```\n"
      ]
    },
    {
      "cell_type": "code",
      "metadata": {
        "id": "L2yg_WPDznDg",
        "colab": {
          "base_uri": "https://localhost:8080/"
        },
        "outputId": "40a508f9-6076-44fa-d297-26f07041e9ff"
      },
      "source": [
        "//Jawab Tugas Soal 1\n",
        "\n",
        "int a, b, c, d, e, f, g;\n",
        "double x, y, z;\n",
        "String one, two, both;\n",
        "\n",
        "a = 10;\n",
        "b = 27;\n",
        "\n",
        "System.out.println( \"a is \" + a + \", b is \" + b );\n",
        "\n",
        "c = a + b;\n",
        "System.out.println( \"a+b is \" + c );\n",
        "d = a - b;\n",
        "System.out.println( \"a-b is \" + d );\n",
        "e = a+b*3;\n",
        "System.out.println( \"a+b*3 is \" + e );\n",
        "f = b / 2;\n",
        "System.out.println( \"b/2 is \" + f );\n",
        "g = b % 10;\n",
        "System.out.println( \"b%10 is \" + g );\n",
        "\n",
        "x = 1.1;\n",
        "System.out.println( \"\\nx is \" + x );\n",
        "y = x*x;\n",
        "System.out.println( \"x*x is \" + y );\n",
        "z = b / 2;\n",
        "System.out.println( \"b/2 is \" + z );\n",
        "System.out.println();\n",
        "\n",
        "one = \"dog\";\n",
        "two = \"house\";\n",
        "both = one + two;\n",
        "System.out.println( both );"
      ],
      "execution_count": null,
      "outputs": [
        {
          "output_type": "stream",
          "name": "stdout",
          "text": [
            "a is 10, b is 27\n",
            "a+b is 37\n",
            "a-b is -17\n",
            "a+b*3 is 91\n",
            "b/2 is 13\n",
            "b%10 is 7\n",
            "\n",
            "x is 1.1\n",
            "x*x is 1.2100000000000002\n",
            "b/2 is 13.0\n",
            "\n",
            "doghouse\n"
          ]
        }
      ]
    },
    {
      "cell_type": "markdown",
      "metadata": {
        "id": "cdgrSjRr0Eq5"
      },
      "source": [
        "**No. 2**\n",
        "\n",
        "Buka kembali kode **Tugas II No 1** tambahkah statment berikut. \n",
        "```\n",
        "int v = ?  // var v set to 3\n",
        "v = (7+8) % 12; \n",
        "\n",
        "// Tampilkan nilai v\n",
        "```\n",
        "* Isikan nilai variable *v* dengan nilai 3\n",
        "* Tampilkan/cetak nilai *V* pada layar\n"
      ]
    },
    {
      "cell_type": "code",
      "metadata": {
        "id": "qnnQqrF05px3",
        "colab": {
          "base_uri": "https://localhost:8080/"
        },
        "outputId": "41a255bb-419e-4f87-94e4-eba99c11c1d7"
      },
      "source": [
        "//Jawaban No 2\n",
        "\n",
        "int a, b, c, d, e, f, g;\n",
        "double x, y, z;\n",
        "String one, two, both;\n",
        "\n",
        "a = 10;\n",
        "b = 27;\n",
        "\n",
        "System.out.println( \"a is \" + a + \", b is \" + b );\n",
        "\n",
        "c = a + b;\n",
        "System.out.println( \"a+b is \" + c );\n",
        "d = a - b;\n",
        "System.out.println( \"a-b is \" + d );\n",
        "e = a+b*3;\n",
        "System.out.println( \"a+b*3 is \" + e );\n",
        "f = b / 2;\n",
        "System.out.println( \"b/2 is \" + f );\n",
        "g = b % 10;\n",
        "System.out.println( \"b%10 is \" + g );\n",
        "\n",
        "x = 1.1;\n",
        "System.out.println( \"\\nx is \" + x );\n",
        "y = x*x;\n",
        "System.out.println( \"x*x is \" + y );\n",
        "z = b / 2;\n",
        "System.out.println( \"b/2 is \" + z );\n",
        "System.out.println();\n",
        "\n",
        "one = \"dog\";\n",
        "two = \"house\";\n",
        "both = one + two;\n",
        "System.out.println( both );\n",
        "System.out.println();\n",
        "\n",
        "\n",
        "int a = 7;\n",
        "System.out.println(\"a = \" + a);\n",
        "int b = 8;\n",
        "System.out.println(\"b = \" + b);\n",
        "int c = 12;\n",
        "System.out.println(\"c = \" + c);\n",
        "v = (a+b) % c;\n",
        "v = (7+8) % 12;\n",
        "System.out.println( \"v is \" + v);"
      ],
      "execution_count": 90,
      "outputs": [
        {
          "output_type": "stream",
          "name": "stdout",
          "text": [
            "a is 10, b is 27\n",
            "a+b is 37\n",
            "a-b is -17\n",
            "a+b*3 is 91\n",
            "b/2 is 13\n",
            "b%10 is 7\n",
            "\n",
            "x is 1.1\n",
            "x*x is 1.2100000000000002\n",
            "b/2 is 13.0\n",
            "\n",
            "doghouse\n",
            "\n",
            "a = 7\n",
            "b = 8\n",
            "c = 12\n",
            "v is 3\n"
          ]
        }
      ]
    },
    {
      "cell_type": "markdown",
      "metadata": {
        "id": "zT6nxQWwvlLR"
      },
      "source": [
        "## Soal UTS"
      ]
    },
    {
      "cell_type": "markdown",
      "metadata": {
        "id": "oQcUp680vy42"
      },
      "source": [
        "**No 2.**\n",
        "\n",
        "Diberikan tabel dibawah ini, deklarasikan variabel yang terdapat didalamnya dengan tipe data yang sesuai dan berikan nilai inisialisasi. \n",
        "\n",
        "|Nama Variabel |\tTipe Data |\tNilai Awal |\n",
        "|-------| ----------|-----|\n",
        "|number |\tinteger\t  |10   |\t\t\n",
        "|letter\t| character\t|a    |\n",
        "|result\t| boolean\t  |true |\n",
        "|str\t  | String\t  |[isi nilai dengan nama anda]|\n",
        "\t\t\n",
        "Tampilkan hasil outputnya yaitu nama variabel dan nilainya.\n",
        "\n",
        "Berikut ini merupakan tampilan yang diharapkan sebagai hasil eksekusi program,\n",
        "\n",
        "\n",
        "```\n",
        "Number = 10\n",
        "letter = a\n",
        "result = true\n",
        "str = [nama anda]\n",
        "```"
      ]
    },
    {
      "cell_type": "code",
      "metadata": {
        "id": "gkqG6t_wxfSx",
        "colab": {
          "base_uri": "https://localhost:8080/"
        },
        "outputId": "57f5b533-84bc-476a-d329-bf865c17b049"
      },
      "source": [
        "//Jawaban SOAL UTS No 2\n",
        "\n",
        "int number = 10;\n",
        "System.out.println(\"Number = \" + number);\n",
        "\n",
        "char letter = 'a';\n",
        "System.out.println(\"letter = \" + letter);\n",
        "\n",
        "boolean result = true;\n",
        "System.out.println(\"result = \" + result);\n",
        "\n",
        "String str = \"Naffa Sefrina Ratuliu\";\n",
        "System.out.println(\"str = \" + str);"
      ],
      "execution_count": 40,
      "outputs": [
        {
          "output_type": "stream",
          "name": "stdout",
          "text": [
            "Number = 10\n",
            "letter = a\n",
            "result = true\n",
            "str = Naffa Sefrina Ratuliu\n"
          ]
        }
      ]
    },
    {
      "cell_type": "markdown",
      "metadata": {
        "id": "U_APdJOD3MpD"
      },
      "source": [
        "**No 3.**\n",
        "\n",
        "Buatlah program yang menghasilkan output nilai rata-rata dari tiga angka. Nilai dari masing-masing tiga angka tersebut adalah 10, 20 dan 45. Tampilan Output yang diharapkan adalah,\n",
        "\n",
        "\n",
        "```\n",
        "number 1 = 10\n",
        "number 2 = 20\n",
        "number 3 = 45\n",
        "Rata-rata = 25\n",
        "``` "
      ]
    },
    {
      "cell_type": "code",
      "metadata": {
        "id": "BBn_Ef4z5uqg",
        "colab": {
          "base_uri": "https://localhost:8080/"
        },
        "outputId": "deced50c-39d6-4319-e895-25a8d85cc7e3"
      },
      "source": [
        "//Jawaban SOAL UTS No 3\n",
        "\n",
        "int number1 = 10;\n",
        "System.out.println(\"number 1 = \" +number1);\n",
        "\n",
        "int number2 = 20;\n",
        "System.out.println(\"number 2 = \" +number2);\n",
        "\n",
        "int number3 = 45;\n",
        "System.out.println(\"number 3 = \" +number3);\n",
        "\n",
        "int rata2 = (number1+number2+number3)/3;\n",
        "System.out.println(\"Rata-rata = \" +rata2);"
      ],
      "execution_count": 63,
      "outputs": [
        {
          "output_type": "stream",
          "name": "stdout",
          "text": [
            "number 1 = 10\n",
            "number 2 = 20\n",
            "number 3 = 45\n",
            "Rata-rata = 25\n"
          ]
        }
      ]
    },
    {
      "cell_type": "markdown",
      "metadata": {
        "id": "ZlIvSB21vUUU"
      },
      "source": [
        "**No 4.**\n",
        "\n",
        "Buatlah program yang menghasilkan output nilai rata-rata dari tiga angka. Nilai dari masing-masing tiga angka tersebut adalah 10, 20 dan 45. Tampilan Output yang diharapkan adalah,\n",
        "```\n",
        "number 1 = 10\n",
        "number 2 = 20\n",
        "number 3 = 45\n",
        "Rata-rata = 25\n",
        "```\n"
      ]
    },
    {
      "cell_type": "code",
      "source": [
        "//Jawaban SOAL UTS No 4\n",
        "\n",
        "int number1 = 10;\n",
        "System.out.println(\"number 1 = \" +number1);\n",
        "\n",
        "int number2 = 20;\n",
        "System.out.println(\"number 2 = \" +number2);\n",
        "\n",
        "int number3 = 45;\n",
        "System.out.println(\"number 3 = \" +number3);\n",
        "\n",
        "int rata2 = (number1+number2+number3)/3;\n",
        "System.out.println(\"Rata-rata = \" +rata2);"
      ],
      "metadata": {
        "colab": {
          "base_uri": "https://localhost:8080/"
        },
        "id": "6ygkWSHbpK0U",
        "outputId": "6de1f0ab-ce57-45ec-daf4-7f7025aeea84"
      },
      "execution_count": 67,
      "outputs": [
        {
          "output_type": "stream",
          "name": "stdout",
          "text": [
            "number 1 = 10\n",
            "number 2 = 20\n",
            "number 3 = 45\n",
            "Rata-rata = 25\n"
          ]
        }
      ]
    }
  ]
}