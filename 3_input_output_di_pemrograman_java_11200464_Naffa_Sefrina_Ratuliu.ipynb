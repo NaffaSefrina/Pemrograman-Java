{
  "nbformat": 4,
  "nbformat_minor": 0,
  "metadata": {
    "colab": {
      "name": "3_input_output_di_pemrograman_java_11200464_Naffa Sefrina Ratuliu.ipynb",
      "provenance": [],
      "collapsed_sections": [],
      "toc_visible": true
    },
    "kernelspec": {
      "name": "java",
      "display_name": "Java"
    },
    "language_info": {
      "name": "java"
    }
  },
  "cells": [
    {
      "cell_type": "code",
      "metadata": {
        "id": "iikHUtEExLIP"
      },
      "source": [
        ""
      ],
      "execution_count": null,
      "outputs": []
    },
    {
      "cell_type": "markdown",
      "metadata": {
        "id": "bUB6YkbKzq6e"
      },
      "source": [
        "\n",
        "\n",
        "---\n",
        "\n"
      ]
    },
    {
      "cell_type": "markdown",
      "metadata": {
        "id": "7QbClP-5yKVi"
      },
      "source": [
        "#Petunjuk Penting !!\n",
        "\n",
        "## Lakukan Inisialisasi Java Kompailer untuk Google Colab\n",
        "Notebook ini menggunakan Java di Google Colaboratory sebagai kompailer. Untuk itu lakukan dua langkah dibawah ini sebelum anda bekerja dengan notebook ini\n",
        "\n",
        "1. Jalankan perintah pada cell diabawah ini (klik tombol run atau tekan tombol `Shift`+`Enter` secara bersamaan)"
      ]
    },
    {
      "cell_type": "code",
      "metadata": {
        "id": "lUr92Wb1yzXm",
        "colab": {
          "base_uri": "https://localhost:8080/"
        },
        "outputId": "57219b29-8da1-4097-943d-2d6601cd4b9c"
      },
      "source": [
        "#perbarui daftar modul untuk memerikasa paket-paket yang perlu ditingkatkan\n",
        "!apt update -q\n",
        "\n",
        "#manambah modul Java Development Kit\n",
        "!apt-get install -q openjdk-11-jdk-headless\n",
        "\n",
        "#mengunduh kernel java\n",
        "!curl -L https://github.com/SpencerPark/IJava/releases/download/v1.3.0/ijava-1.3.0.zip -o ijava-kernel.zip\n",
        "\n",
        "#Ekstrak Kernel Java\n",
        "!unzip -q ijava-kernel.zip -d ijava-kernel && cd ijava-kernel && python3 install.py --sys-prefix\n",
        "\n",
        "#menampilkan spek. kernal dalam lis\n",
        "!jupyter kernelspec list"
      ],
      "execution_count": null,
      "outputs": [
        {
          "output_type": "stream",
          "name": "stdout",
          "text": [
            "Ign:1 https://developer.download.nvidia.com/compute/cuda/repos/ubuntu1804/x86_64  InRelease\n",
            "Ign:2 https://developer.download.nvidia.com/compute/machine-learning/repos/ubuntu1804/x86_64  InRelease\n",
            "Get:3 https://developer.download.nvidia.com/compute/cuda/repos/ubuntu1804/x86_64  Release [696 B]\n",
            "Hit:4 https://developer.download.nvidia.com/compute/machine-learning/repos/ubuntu1804/x86_64  Release\n",
            "Get:5 https://cloud.r-project.org/bin/linux/ubuntu bionic-cran40/ InRelease [3,626 B]\n",
            "Get:6 https://developer.download.nvidia.com/compute/cuda/repos/ubuntu1804/x86_64  Release.gpg [836 B]\n",
            "Get:7 http://security.ubuntu.com/ubuntu bionic-security InRelease [88.7 kB]\n",
            "Get:8 http://ppa.launchpad.net/c2d4u.team/c2d4u4.0+/ubuntu bionic InRelease [15.9 kB]\n",
            "Hit:9 http://archive.ubuntu.com/ubuntu bionic InRelease\n",
            "Get:11 http://archive.ubuntu.com/ubuntu bionic-updates InRelease [88.7 kB]\n",
            "Hit:12 http://ppa.launchpad.net/cran/libgit2/ubuntu bionic InRelease\n",
            "Get:13 https://developer.download.nvidia.com/compute/cuda/repos/ubuntu1804/x86_64  Packages [953 kB]\n",
            "Get:14 http://ppa.launchpad.net/deadsnakes/ppa/ubuntu bionic InRelease [15.9 kB]\n",
            "Get:15 http://archive.ubuntu.com/ubuntu bionic-backports InRelease [74.6 kB]\n",
            "Get:16 http://security.ubuntu.com/ubuntu bionic-security/universe amd64 Packages [1,490 kB]\n",
            "Hit:17 http://ppa.launchpad.net/graphics-drivers/ppa/ubuntu bionic InRelease\n",
            "Get:18 http://security.ubuntu.com/ubuntu bionic-security/main amd64 Packages [2,695 kB]\n",
            "Get:19 http://ppa.launchpad.net/c2d4u.team/c2d4u4.0+/ubuntu bionic/main Sources [1,947 kB]\n",
            "Get:20 http://archive.ubuntu.com/ubuntu bionic-updates/main amd64 Packages [3,134 kB]\n"
          ]
        }
      ]
    },
    {
      "cell_type": "markdown",
      "metadata": {
        "id": "05gvKabVzOQD"
      },
      "source": [
        "2. Kemudian refresh halaman notebook (page) (tekan tombol `F5`) atau that. atau tekan tombol refresh/reload. "
      ]
    },
    {
      "cell_type": "markdown",
      "metadata": {
        "id": "fizVCMLKzf8A"
      },
      "source": [
        "---\n"
      ]
    },
    {
      "cell_type": "markdown",
      "metadata": {
        "id": "B_p4-m6GVfgq"
      },
      "source": [
        "#5. Input-Output Program Mode Console Dan Konversi\n",
        "\n",
        "Kita telah mempelajari konsep dasar pada Java dan menulis beberapa program sederhana. Sekarang kita akan mencoba membuat program kita lebih interaktif dengan menggunakan input dari keyboard. Program komputer terdiri dari tiga komponen utama, yaitu: input, proses, dan output.\n",
        "\n",
        "* Input: nilai yang kita masukan ke program\n",
        "* Proses: langkah demi langkah yang dilakukan untuk mengelola input menjadi sesuatu yang berguna\n",
        "* Output: hasil pengolahan\n",
        "\n",
        "Semua bahasa pemrograman telah menyediakan fungs-fungsi untuk melakukan input dan output."
      ]
    },
    {
      "cell_type": "markdown",
      "metadata": {
        "id": "i-nyUyjWfuwR"
      },
      "source": [
        "##5.1 Mengambil Input dengan Class Scanner\n",
        "Scanner merupakan class yang menyediakan fungsi-fungsi untuk mengambil input dari keyboard.\n",
        "\n",
        "Agar kita bisa menggunakan Scanner, kita perlu menyertakan ke dalam kode library **Scaner**\n",
        "\n",
        "```\n",
        "java.util.Scanner;\n",
        "```\n",
        "\n",
        "\n",
        "\n",
        "\n"
      ]
    },
    {
      "cell_type": "markdown",
      "metadata": {
        "id": "RwA-KD2wRyke"
      },
      "source": [
        "Yang pertama harus dilakukan adalah inisialisasi objek *scanner* sebelum melakukan proses input.\n",
        "\n",
        "\n",
        "```\n",
        "var scanner = new java.util.Scanner(System.in);\n",
        "```\n",
        "statment diatas yaitu membuat objek *scanner* dari *class java.util.Scanner*\n",
        "\n",
        "Berikut ini adalah cara penggunaannya. Lakukan eksekusi pada baris kode dibawah ini dengan menekan tombol >\n",
        "\n",
        "**Program 5.1** Program Test Input \n"
      ]
    },
    {
      "cell_type": "code",
      "metadata": {
        "id": "8r-E4FxA1y0P",
        "colab": {
          "base_uri": "https://localhost:8080/"
        },
        "outputId": "8d002797-0ab6-4086-db6a-582de2bc944d"
      },
      "source": [
        "var scanner = new java.util.Scanner(System.in);\n",
        "\n",
        " String nama;\n",
        " int umur;\n",
        "\n",
        "// mengambil isi variabel nama dan usia dari inputan keyboard\n",
        "//input String nama memalui objek scanner\n",
        " System.out.print(\"Inputkan nama: \");\n",
        " nama = scanner.nextLine();\n",
        " //input String nama memalui objek scanner\n",
        " System.out.print(\"Inputkan usia: \");\n",
        " umur = Integer.parseInt(scanner.nextLine());\n",
        "\n",
        "// mengampilkan isi variabel nama dan usia\n",
        "   System.out.println(\"Nama kamu adalah: \" + nama);\n",
        "    System.out.println(\"Saat ini berusia \" + umur + \" tahun\");"
      ],
      "execution_count": 7,
      "outputs": [
        {
          "output_type": "stream",
          "name": "stdout",
          "text": [
            "Inputkan nama: Naffa\n",
            "Inputkan usia: 20\n",
            "Nama kamu adalah: Naffa\n",
            "Saat ini berusia 20 tahun\n"
          ]
        }
      ]
    },
    {
      "cell_type": "markdown",
      "metadata": {
        "id": "uTQfEFqrUI5n"
      },
      "source": [
        "Mari kita bahas satu persatu statment dari kode diatas"
      ]
    },
    {
      "cell_type": "markdown",
      "metadata": {
        "id": "r1V2GzimVWIf"
      },
      "source": [
        "##5.2 Tipe Input Berdasar Tipe Data\n",
        "\n",
        "Pada **Program 5.1** Program Test Input. terdapat statment\n",
        "\n",
        "\n",
        "```\n",
        " nama = scanner.nextLine();\n",
        "```\n",
        "method diatas memanggil *scanner.nextLine()*, mendapatkan input dari user dan memberikan sebuah nilai String. Nilai ini akan disimpan ke dalam variabel nama, yang akan kita gunakan pada statement akhir untuk menyambut user,\n",
        "Berdasarkan Tipe data yang diinputkan, inputan data berbeda - beda terbagi sesuai dengan data yang dimasukan.\n",
        "\n",
        "Untuk melakukan input ke tipe data tertentu, kita wajib mengenal method-method ini\n",
        "\n",
        "|Method\t| Tipe data tujuan |\n",
        "|-------|------------------|\n",
        "|nextInt()|\tInteger |\n",
        "|nextFloat()|\tFloat |\n",
        "|nextDouble()|\tDouble |\n",
        "|next()\t|String|\n",
        "|nextLine()|\tString |\n",
        "\n",
        "Dokukumentasi lebih lanjut tentang [scanner](http://docs.oracle.com/javase/7/docs/api/java/util/Scanner.html) ada pada halaman tersebut "
      ]
    },
    {
      "cell_type": "markdown",
      "metadata": {
        "id": "AxHds0gPYBlT"
      },
      "source": [
        "## 5.3. Konversi Tipe Data\n",
        "\n",
        "Pada Program 5.1 Program Test Input. terdapat statment\n",
        "\n",
        "```\n",
        "//umur bertipe int\n",
        "\n",
        "umur = Integer.parseInt(scanner.nextLine());\n",
        "```\n",
        "Semua data yang ditangkap oleh fungsi *scanner.nextLine()* manghasilkan tipe data string atau kumpulan karakter.\n",
        "Padahal variabel *umur* bertipe *integer*. Hal ini akan menimbulkan kesalahan atau *error* dari program yang kita buat karena *ada ketidak sesuaian tipe data penampung*\n",
        "\n",
        "Hal inilah yang sudah diantisipasi oleh java dengan menyediakan metode konversi. dimamana Konversi artinya merubah ke jenis yang lain. Analoginya seperti diabawah ini\n",
        "\n",
        ">Air yang bentuknya cair tidak bisa disimpan dalam kardus. Karena itu, air harus konversi dulu menjadi bentuk padat (es) agar bisa disimpan dalam kardus.\n",
        "\n",
        "Demikian juga dengan variabel. Tipe data string tidak akan bisa disimpan dalam variabel dengan tipe integer.\n",
        "\n"
      ]
    },
    {
      "cell_type": "markdown",
      "metadata": {
        "id": "-8k2IV8Oaivl"
      },
      "source": [
        "###5.3.1 Cara Konversi Tipe Data\n",
        "Berikut ini beberapa cara Konversi data ke tipe integer\n",
        "\n",
        "Cara 1:\n",
        "```\n",
        "Integer.perseInt(variabel);\n",
        "Integer.perseInt(1.2);\n",
        "```\n",
        "\n",
        "Cara 2:\n",
        "```\n",
        "Integer.valueOf(2.1);\n",
        "```\n",
        "\n",
        "Cara 3:\n",
        "```\n",
        "objek.toInt();\n",
        "```\n",
        "\n",
        "Cara 4:\n",
        "```\n",
        "(int) variabel;\n",
        "(int) 2.1;\n",
        "```\n"
      ]
    },
    {
      "cell_type": "markdown",
      "metadata": {
        "id": "pZOkEWQVcxI7"
      },
      "source": [
        "###5.3.2 Konversi Tipe Data String Dengan Parse\n",
        "\n",
        "Berikut merupakan salahsatu contoh menggunakan fungsi *Parse* dan funsi lainnya untuk mengkonversi tipe data String ke tipe data lain.\n",
        "\n",
        "1. Konversi String ke Integer\n",
        "\n",
        "```\n",
        "Int a = Integer.parseInt(\"123\");\n",
        "```\n",
        "\n",
        "note : slide ke kiri atau kanan, untuk melihat code lebih lengkap\n",
        "2. Konversi String ke Short\n",
        "```\n",
        "Short a = Short.parseShort(\"123\");\n",
        "```\n",
        "\n",
        "note : slide ke kiri atau kanan, untuk melihat code lebih lengkap\n",
        "3. Konversi String ke Long\n",
        "```\n",
        "Long a = Long.parseLong(\"123\");\n",
        "```\n",
        "\n",
        "note : slide ke kiri atau kanan, untuk melihat code lebih lengkap\n",
        "4. Konversi String ke Double\n",
        "```\n",
        "Double a = Double.parseDouble(\"123\");\n",
        "```\n",
        "note : slide ke kiri atau kanan, untuk melihat code lebih lengkap\n",
        "5. Konversi String ke Float\n",
        "```\n",
        "Float a = Float.parseFloat(\"123\");\n",
        "```\n",
        "\n",
        "Untuk lebih jelasnya lakukan eksekusi pada baris kode dibawah ini dengan menekan tombol >\n",
        "\n",
        "**Program 5.2** Program Parse "
      ]
    },
    {
      "cell_type": "code",
      "metadata": {
        "id": "Y3FAZsCZdw77",
        "colab": {
          "base_uri": "https://localhost:8080/"
        },
        "outputId": "8a9ba32d-074f-49c4-e2c9-63ce4c67ed37"
      },
      "source": [
        "        //inisialisasi variable nilai dengan string \"123\" \n",
        "        String nilai = \"123\";\n",
        "       //to int\n",
        "        System.out.println(\"Hasil Integer:\" + Integer.parseInt(nilai));\n",
        "        \n",
        "        //to short\n",
        "        System.out.println(\"Hasil Short:\" + Short.parseShort(nilai));\n",
        "        \n",
        "        //to long\n",
        "        System.out.println(\"Hasil Long:\" + Long.parseLong(nilai));\n",
        "        \n",
        "        //to double\n",
        "        System.out.println(\"Hasil Double:\" + Double.parseDouble(nilai));\n",
        "        \n",
        "        //to float\n",
        "        System.out.println(\"Hasil Float:\" + Float.parseFloat(nilai));\n",
        "        \n",
        "       "
      ],
      "execution_count": 28,
      "outputs": [
        {
          "output_type": "stream",
          "name": "stdout",
          "text": [
            "Hasil Integer:123\n",
            "Hasil Short:123\n",
            "Hasil Long:123\n",
            "Hasil Double:123.0\n",
            "Hasil Float:123.0\n"
          ]
        }
      ]
    },
    {
      "cell_type": "markdown",
      "metadata": {
        "id": "lhEsBowFguVV"
      },
      "source": [
        "##5.4 Menggabungkan String\n",
        "Ketika menggunakan fungsi *print()* maupun *println()*, kadang kita perlu mengambil teks dari variabel dan menggabungkannya dengan teks yang lain.\n",
        "\n",
        "Misalnya seperti ini:\n",
        "\n",
        "Kita punya variabel namaDepan dan namaBelakang:\n",
        "\n",
        "\n",
        "```\n",
        "String namaDepan = \"Valentino\";\n",
        "String namaBelakang = \"Rossi\";\n",
        "```\n",
        "\n",
        "Kemudian kita ingin menampilkannya dengan fungsi *print()*, maka kita hanya perlu memasukkannya ke sana.\n",
        "\n",
        "```\n",
        "System.out.print(namaDepan);\n",
        "System.out.print(namaBelakang);\n",
        "# This is formatted as code\n",
        "```\n",
        "Kode tersebut akan menghasilkan:*ValentinoRossi*\n",
        "\n",
        "Sebenarnya kita tidak perlu menggunakan dua fungsi *print()*, karena kita bisa menggabungkannya dengan operator +.\n",
        "\n",
        "Contoh:\n",
        "```\n",
        "System.out.print(namaDepan + namaBelakang);\n",
        "```\n",
        "Agar ada spasi, tinggal ditambahkan saja spasi:\n",
        "\n",
        "```\n",
        "System.out.print(namaDepan + \" \" + namaBelakang);\n",
        "```"
      ]
    },
    {
      "cell_type": "markdown",
      "metadata": {
        "id": "C4AKoP5cENo_"
      },
      "source": [
        "##5.5 Menampilkan Output Dengan Format String\n",
        "\n",
        "Ada beberapa fungsi yang sudah disediakan oleh Java:\n",
        "\n",
        "* Fungsi *System.out.print()*\n",
        "* Fungsi *System.out.println()*\n",
        "* Fungsi *System.out.format()*\n",
        "\n",
        "untuk *System.out.print()* dan *System.out.println()* sudah kita bahasa sebelumnya.\n",
        "\n",
        "Sedangkan untuk menggabungkan String yang lebih kompleks, kita bisa menggunakan fungsi *format()*.\n",
        "\n",
        "```\n",
        "String namaDepan = \"Valentino\";\n",
        "String namaBelakang = \"Rossi\";\n",
        "\n",
        "System.out.format(\"Nama saya %s %s  %n\", namaDepan, namaBelakang);\n",
        "```\n",
        "\n",
        ">**Perhatian:** di sana kita menggunakan simbol *%s* untuk mengambil nilai dari variabel di sampingnya. *%s* artinya string.\n",
        "\n",
        "Berikut ini beberapa simbol lain yang bisa digunakan:\n",
        "* *%s*  untuk string atau kumpulan karakter\n",
        "* *%d*  untuk desimal atau angka;\n",
        "* *%f* untuk bilangan pecahan;\n",
        "* *%n* untuk baris baru, bisa juga pakai \\n;\n",
        "\n",
        "Lakukan eksekusi pada baris kode dibawah ini dengan menekan tombol >\n",
        "\n",
        "**Program 5.3** Program Format String "
      ]
    },
    {
      "cell_type": "code",
      "metadata": {
        "id": "3iWTxAl5feRh",
        "colab": {
          "base_uri": "https://localhost:8080/"
        },
        "outputId": "3c746da4-fd0f-4db6-a7b6-fb1a9c348cd9"
      },
      "source": [
        "String namaDepan = \"Valentino\";\n",
        "String namaBelakang = \"Rossi\";\n",
        "int umur = 34;\n",
        "\n",
        "System.out.format(\"Nama saya %s %s , Umur %d tahun %n\", namaDepan, namaBelakang, umur);"
      ],
      "execution_count": 42,
      "outputs": [
        {
          "output_type": "stream",
          "name": "stdout",
          "text": [
            "Nama saya Valentino Rossi , Umur 34 tahun \n"
          ]
        },
        {
          "output_type": "execute_result",
          "data": {
            "text/plain": [
              "java.io.PrintStream@18621f04"
            ]
          },
          "metadata": {},
          "execution_count": 42
        }
      ]
    },
    {
      "cell_type": "markdown",
      "metadata": {
        "id": "1BF-A0oPrBL_"
      },
      "source": [
        "## **Tugas III**\n",
        "\n",
        "**No. 1**\n",
        "\n",
        "Implementasikan dengan kode dan Jelaskan perbedaan antara fungsi *next()*\tdan *nextLine()*? \n",
        "\n"
      ]
    },
    {
      "cell_type": "code",
      "metadata": {
        "id": "L2yg_WPDznDg",
        "colab": {
          "base_uri": "https://localhost:8080/"
        },
        "outputId": "245d733c-2243-4606-bbcb-3abecfa9ff38"
      },
      "source": [
        "//Jawab Tugas III Soal 1\n",
        "\n",
        "String s;\n",
        "Scanner in = new Scanner(System.in);\n",
        "\n",
        "s = in.nextLine();\n",
        "System.out.println(\"Nilai s dengan nextLine() : \"+s);\n",
        "/*nextLine() membaca input termasuk spasi diantara kata-kata*/\n",
        "System.out.println();\n",
        "\n",
        "s = in.next();\n",
        "System.out.println(\"Nilai s dengan next() : \"+s);\n",
        "/*next() dapat membaca input hanya sampai spasi. Tidak dapat membaca dua kata yang dipisahkan oleh spasi*/"
      ],
      "execution_count": 224,
      "outputs": [
        {
          "output_type": "stream",
          "name": "stdout",
          "text": [
            "Saya adalah seorang mahasiswi\n",
            "Nilai s dengan nextLine() : Saya adalah seorang mahasiswi\n",
            "\n",
            "Saya adalah seorang mahasiswi\n",
            "Nilai s dengan next() : Saya\n"
          ]
        }
      ]
    },
    {
      "cell_type": "markdown",
      "metadata": {
        "id": "cdgrSjRr0Eq5"
      },
      "source": [
        "**No. 2**\n",
        "\n",
        "Buatlah sebuah program input data karyawan yang menerima input dari keybord dengan tampilan sebagai berikut\n",
        "```\n",
        "Input Nama        :\n",
        "Input Alamat      :\n",
        "Input Umur        :\n",
        "a. Gaji Pokok     :\n",
        "b. Jumlah Anak    :\n",
        "c. Tunjangan Anak :\n",
        "d. Jumlah Tunjangan [a] x [b] :\n",
        "Total Gaji [a] + [d] :\n",
        "```\n",
        "\n",
        "Sesuaikan ketentuan kebutuhan tipe datanya"
      ]
    },
    {
      "cell_type": "code",
      "metadata": {
        "id": "qnnQqrF05px3",
        "colab": {
          "base_uri": "https://localhost:8080/"
        },
        "outputId": "f6d8276b-4bea-4b49-c112-682952555d02"
      },
      "source": [
        "//Jawaban Tugas III No 2\n",
        "\n",
        "var scanner = new java.util.Scanner(System.in);\n",
        "\n",
        "String nama, alamat;\n",
        "int umur, gajiPokok, jumlahAnak, tunjanganAnak, jumlahTunjangan, totalGaji;\n",
        "\n",
        "System.out.print(\"Input Nama: \");\n",
        "nama = scanner.nextLine();\n",
        "\n",
        "System.out.print(\"Input Alamat: \");\n",
        "alamat = scanner.nextLine();\n",
        "\n",
        "System.out.print(\"Input Umur: \");\n",
        "umur = Integer.parseInt(scanner.nextLine());\n",
        "\n",
        "System.out.print(\"Gaji Pokok: \");\n",
        "gajiPokok = Integer.parseInt(scanner.nextLine());\n",
        "\n",
        "System.out.print(\"Jumlah Anak: \");\n",
        "jumlahAnak = Integer.parseInt(scanner.nextLine());\n",
        "\n",
        "System.out.print(\"Tunjangan Anak: \");\n",
        "tunjanganAnak = Integer.parseInt(scanner.nextLine());\n",
        "\n",
        "System.out.print(\"Jumlah Tunjangan: \");\n",
        "jumlahTunjangan = (gajiPokok * jumlahAnak);\n",
        "System.out.println();\n",
        "\n",
        "System.out.print(\"Total Gaji: \");\n",
        "totalGaji = (gajiPokok + jumlahTunjangan);\n",
        "System.out.println();\n",
        "\n",
        "System.out.println();\n",
        "System.out.println(\"Input Nama: \" + nama);\n",
        "System.out.println(\"Input Alamat: \" + alamat);\n",
        "System.out.println(\"Input Umur: \" + umur + \" tahun\");\n",
        "System.out.println(\"a. Gaji Pokok: \" + gajiPokok + \" rupiah\");\n",
        "System.out.println(\"b. Jumlah Anak: \" + jumlahAnak + \" anak\");\n",
        "System.out.println(\"c. Tunjangan Anak: \" + tunjanganAnak + \" rupiah\");\n",
        "System.out.println(\"d. Jumlah Tunjangan [a]*[b]: \" + jumlahTunjangan + \" rupiah\");\n",
        "System.out.println(\"Total Gaji [a]+[d]: \" + totalGaji + \" rupiah\");"
      ],
      "execution_count": 186,
      "outputs": [
        {
          "output_type": "stream",
          "name": "stdout",
          "text": [
            "Input Nama: mia\n",
            "Input Alamat: kotagede\n",
            "Input Umur: 39\n",
            "Gaji Pokok: 2000000\n",
            "Jumlah Anak: 2\n",
            "Tunjangan Anak: 0\n",
            "Jumlah Tunjangan: \n",
            "Total Gaji: \n",
            "\n",
            "Input Nama: mia\n",
            "Input Alamat: kotagede\n",
            "Input Umur: 39 tahun\n",
            "a. Gaji Pokok: 2000000 rupiah\n",
            "b. Jumlah Anak: 2 anak\n",
            "c. Tunjangan Anak: 0 rupiah\n",
            "d. Jumlah Tunjangan [a]*[b]: 4000000 rupiah\n",
            "Total Gaji [a]+[d]: 6000000 rupiah\n"
          ]
        }
      ]
    },
    {
      "cell_type": "markdown",
      "metadata": {
        "id": "zT6nxQWwvlLR"
      },
      "source": [
        "## Soal UTS"
      ]
    },
    {
      "cell_type": "markdown",
      "metadata": {
        "id": "oQcUp680vy42"
      },
      "source": [
        "**No 5.**\n",
        "\n",
        "Kerjakan salah satu dari dua soal berikut (Soal A atau B) sesuai dengan digit terakhir NIM anda.\n",
        "\n",
        "1. Jika Digit terakhir NIM anda adalah ganjil atau nol(0) kerjakanlan Soal A berikut ini\n",
        "\n",
        "**Soal A**\n",
        "\n",
        "Bualah aplikasi interaktif yang menerima input variable dari keyboard untuk mencari luas bangun datar lingkaran.\n",
        "\n",
        "Dengan tampilan sebagai berikut:\n",
        "```\n",
        "Masukan Diameter : \n",
        "Luas Lingkaran   :\n",
        "```\n",
        "\n",
        "\n",
        "2. Jika Digit terakhir NIM anda adalah genap kerjakanlan Soal B berikut ini\n",
        "**Soal B**\n",
        "\n",
        "Bualah aplikasi interaktif yang menerima input variable dari keyboard untuk mencari keliling bangun datar lingkaran.\n",
        "\n",
        "Dengan tampilan sebagai berikut:\n",
        "```\n",
        "Masukan Diameter : \n",
        "Keliling Lingkaran   :\n",
        "```\n",
        "\n"
      ]
    },
    {
      "cell_type": "code",
      "metadata": {
        "id": "gkqG6t_wxfSx",
        "colab": {
          "base_uri": "https://localhost:8080/"
        },
        "outputId": "cf4943e7-0a33-40e7-ce79-3d7c8dc20782"
      },
      "source": [
        "//Jawaban SOAL UTS No 5\n",
        "\n",
        "Scanner in = new Scanner(System.in);\n",
        "\n",
        "double keliling, phi=3.14;\n",
        "int d;\n",
        "\n",
        "System.out.print(\"Masukkan Diameter = \");\n",
        "d = in.nextInt();\n",
        "\n",
        "keliling = phi*d;\n",
        "\n",
        "System.out.println(\"Keliling Lingkaran = \" +keliling);"
      ],
      "execution_count": 209,
      "outputs": [
        {
          "output_type": "stream",
          "name": "stdout",
          "text": [
            "Masukkan Diameter = 7\n",
            "Keliling Lingkaran = 21.98\n"
          ]
        }
      ]
    }
  ]
}