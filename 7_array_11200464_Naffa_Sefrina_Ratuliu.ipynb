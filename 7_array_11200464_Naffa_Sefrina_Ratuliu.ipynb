{
  "cells": [
    {
      "cell_type": "code",
      "execution_count": null,
      "metadata": {
        "id": "iikHUtEExLIP"
      },
      "outputs": [],
      "source": [
        ""
      ]
    },
    {
      "cell_type": "markdown",
      "metadata": {
        "id": "bUB6YkbKzq6e"
      },
      "source": [
        "\n",
        "\n",
        "---\n",
        "\n"
      ]
    },
    {
      "cell_type": "markdown",
      "metadata": {
        "id": "7QbClP-5yKVi"
      },
      "source": [
        "#Petunjuk Penting !!\n",
        "\n",
        "## Lakukan Inisialisasi Java Kompailer untuk Google Colab\n",
        "Notebook ini menggunakan Java di Google Colaboratory sebagai kompailer. Untuk itu lakukan dua langkah dibawah ini sebelum anda bekerja dengan notebook ini\n",
        "\n",
        "1. Jalankan perintah pada cell diabawah ini (klik tombol run atau tekan tombol `Shift`+`Enter` secara bersamaan)"
      ]
    },
    {
      "cell_type": "code",
      "execution_count": null,
      "metadata": {
        "id": "lUr92Wb1yzXm",
        "colab": {
          "base_uri": "https://localhost:8080/"
        },
        "outputId": "a9540d2d-3880-4ed9-9cac-3662cae7df94"
      },
      "outputs": [
        {
          "output_type": "stream",
          "name": "stdout",
          "text": [
            "Hit:1 https://developer.download.nvidia.com/compute/cuda/repos/ubuntu1804/x86_64  InRelease\n",
            "Get:2 https://cloud.r-project.org/bin/linux/ubuntu bionic-cran40/ InRelease [3,626 B]\n",
            "Ign:3 https://developer.download.nvidia.com/compute/machine-learning/repos/ubuntu1804/x86_64  InRelease\n",
            "Hit:4 https://developer.download.nvidia.com/compute/machine-learning/repos/ubuntu1804/x86_64  Release\n",
            "Hit:5 http://archive.ubuntu.com/ubuntu bionic InRelease\n",
            "Get:6 http://security.ubuntu.com/ubuntu bionic-security InRelease [88.7 kB]\n",
            "Hit:7 http://ppa.launchpad.net/c2d4u.team/c2d4u4.0+/ubuntu bionic InRelease\n",
            "Get:8 http://archive.ubuntu.com/ubuntu bionic-updates InRelease [88.7 kB]\n",
            "Hit:9 http://ppa.launchpad.net/cran/libgit2/ubuntu bionic InRelease\n",
            "Hit:11 http://ppa.launchpad.net/deadsnakes/ppa/ubuntu bionic InRelease\n",
            "Get:12 http://archive.ubuntu.com/ubuntu bionic-backports InRelease [74.6 kB]\n",
            "Hit:13 http://ppa.launchpad.net/graphics-drivers/ppa/ubuntu bionic InRelease\n",
            "Get:14 http://security.ubuntu.com/ubuntu bionic-security/restricted amd64 Packages [1,006 kB]\n",
            "Get:15 http://archive.ubuntu.com/ubuntu bionic-updates/main amd64 Packages [3,294 kB]\n",
            "Get:16 http://security.ubuntu.com/ubuntu bionic-security/multiverse amd64 Packages [22.8 kB]\n",
            "Get:17 http://security.ubuntu.com/ubuntu bionic-security/universe amd64 Packages [1,521 kB]\n",
            "Get:18 http://security.ubuntu.com/ubuntu bionic-security/main amd64 Packages [2,861 kB]\n",
            "Get:19 http://archive.ubuntu.com/ubuntu bionic-updates/multiverse amd64 Packages [29.8 kB]\n",
            "Get:20 http://archive.ubuntu.com/ubuntu bionic-updates/universe amd64 Packages [2,297 kB]\n",
            "Get:21 http://archive.ubuntu.com/ubuntu bionic-updates/restricted amd64 Packages [1,040 kB]\n",
            "Get:22 http://archive.ubuntu.com/ubuntu bionic-backports/main amd64 Packages [12.2 kB]\n",
            "Fetched 12.3 MB in 4s (3,348 kB/s)\n",
            "Reading package lists...\n",
            "Building dependency tree...\n",
            "Reading state information...\n",
            "49 packages can be upgraded. Run 'apt list --upgradable' to see them.\n",
            "Reading package lists...\n",
            "Building dependency tree...\n",
            "Reading state information...\n",
            "openjdk-11-jdk-headless is already the newest version (11.0.15+10-0ubuntu0.18.04.1).\n",
            "The following package was automatically installed and is no longer required:\n",
            "  libnvidia-common-460\n",
            "Use 'apt autoremove' to remove it.\n",
            "0 upgraded, 0 newly installed, 0 to remove and 49 not upgraded.\n",
            "  % Total    % Received % Xferd  Average Speed   Time    Time     Time  Current\n",
            "                                 Dload  Upload   Total   Spent    Left  Speed\n",
            "  0     0    0     0    0     0      0      0 --:--:-- --:--:-- --:--:--     0\n",
            "100 3287k  100 3287k    0     0  6407k      0 --:--:-- --:--:-- --:--:-- 6407k\n",
            "install.py:169: DeprecationWarning: replace is ignored. Installing a kernelspec always replaces an existing installation\n",
            "  replace=args.replace\n",
            "Installed java kernel into \"/usr/share/jupyter/kernels/java\"\n",
            "Available kernels:\n",
            "  ir         /usr/local/share/jupyter/kernels/ir\n",
            "  python3    /usr/local/share/jupyter/kernels/python3\n",
            "  java       /usr/share/jupyter/kernels/java\n"
          ]
        }
      ],
      "source": [
        "#perbarui daftar modul untuk memerikasa paket-paket yang perlu ditingkatkan\n",
        "!apt update -q\n",
        "\n",
        "#manambah modul Java Development Kit\n",
        "!apt-get install -q openjdk-11-jdk-headless\n",
        "\n",
        "#mengunduh kernel java\n",
        "!curl -L https://github.com/SpencerPark/IJava/releases/download/v1.3.0/ijava-1.3.0.zip -o ijava-kernel.zip\n",
        "\n",
        "#Ekstrak Kernel Java\n",
        "!unzip -q ijava-kernel.zip -d ijava-kernel && cd ijava-kernel && python3 install.py --sys-prefix\n",
        "\n",
        "#menampilkan spek. kernal dalam lis\n",
        "!jupyter kernelspec list"
      ]
    },
    {
      "cell_type": "markdown",
      "metadata": {
        "id": "05gvKabVzOQD"
      },
      "source": [
        "2. Kemudian refresh halaman notebook (page) (tekan tombol `F5`) atau that. atau tekan tombol refresh/reload. "
      ]
    },
    {
      "cell_type": "markdown",
      "metadata": {
        "id": "fizVCMLKzf8A"
      },
      "source": [
        "---\n"
      ]
    },
    {
      "cell_type": "markdown",
      "metadata": {
        "id": "VD3Bt8LiFs-E"
      },
      "source": [
        "# 9. Tipe Data Array\n",
        "\n",
        "## 9.1 Tujuan\n",
        "Dalam bab ini, kita akan mendiskusikan mengenai array dalam Java. Pertama, kita akan mendefinisikan apa yang dimaksud dengan array, kemudian kita juga akan mendiskusikan bagaimana mendeklarasikannya dan menggunakannya dalam Java.\n",
        "Pada akhir pembahasan, diharapkan pembaca dapat :\n",
        "- Mendeklarasikan dan membuat array\n",
        "- Mengakses elemen-elemen didalam array\n",
        "- Menentukan jumlah element didalam sebuah array\n",
        "- Mendeklarasikan dan membuat array multidimensi\n"
      ]
    },
    {
      "cell_type": "markdown",
      "metadata": {
        "id": "JuNOzB9Vvbxm"
      },
      "source": [
        "## 9.2 Pengenalan Array\n",
        "\n",
        "Apa yang akan kita lakukan bila memiliki banyak data yang akan disimpan dalam vairabel?\n",
        "\n",
        "Misalkan kita ingin menyimpan nama-nama mahasiswa dalam variabel.\n",
        "\n",
        "Maka mungkin kita akan melakukannya seperti ini:\n",
        "\n",
        "```\n",
        "String namaMahasiswa1 = \"Toni\";\n",
        "String namaMahasiswa2 = \"Santi\";\n",
        "String namaMahasiswa3 = \"Susan\";\n",
        "String namaMahasiswa4 = \"Joko\";\n",
        "String namaMahasiswa5 = \"Ayu\";\n",
        "```\n",
        "Masalahnya bagaimana kala datanya banyak, misalkan ada 100 data, pastinya capek donk membuat variabel sebanyak itu.\n",
        "\n",
        "Karena itu, kita bisa menyimpan itu semua dalam Array.\n",
        "\n",
        "**Apa itu Array?**\n",
        "\n",
        "Array adalah sebuah variabel yang bisa menyimpan banyak data dalam satu variabel.\n",
        "\n",
        "Array menggunakan indeks untuk memudahkan akses terhadap data yang disimpannya.\n",
        "\n",
        "maka visualisasi variable **namaMahasiswa** menjadi sebagai berikut: \n",
        "\n",
        "| Index 0 | Index 1 | Index 2 | Index 3 | Index 4 |\n",
        "|---|---|---|---|---|\n",
        "| Toni | Santi | Susan | Joko | Ayu |\n",
        "\n",
        "**Catatan**\n",
        "1. Indeks array selalu dimulai dari 0…\n",
        "2. indeks tidak selalu dalam bentuk angka. Bisa juga karakter atau teks.\n",
        "\n"
      ]
    },
    {
      "cell_type": "markdown",
      "metadata": {
        "id": "X4FYs0eONEiQ"
      },
      "source": [
        "## 9.3 Cara Membuat Array di Java\n",
        "Cara membuat array kosong di Java adalah sebagai berikut :\n",
        "\n",
        "```javascript\n",
        "// cara pertama\n",
        "    String[] nama;\n",
        "\n",
        "// cara kedua\n",
        "    String nama[];\n",
        "\n",
        "// cara ketiga dengan kata kunci new\n",
        "    String[] nama = new String[5];\n",
        "```\n",
        "**Catatan**\n",
        "\n",
        "1. Kita menggunakan kurung siku [] untuk membuat array;\n",
        "2. Kurung siku bisa diletakkan setelah tipe data atau nama array;\n",
        "3. Angka 5 dalam kurung artinya batas atau ukuran array-nya.\n",
        "\n"
      ]
    },
    {
      "cell_type": "markdown",
      "metadata": {
        "id": "vx99DqtIPEkE"
      },
      "source": [
        "## 9.4 Cara Pengisian Data\n",
        "Insisialisasi atau pengisian data array pada Java dilakukan sebagai berikut.\n",
        "\n",
        "\n",
        "```javascript\n",
        "namaMahasiswa[0] = \"Linda\";\n",
        "namaMahasiswa[1] = \"Santi\";\n",
        "namaMahasiswa[2] = \"Susan\";\n",
        "namaMahasiswa[3] = \"Mila\";\n",
        "namaMahasiswa[4] = \"Ayu\";\n",
        "```\n",
        "\n",
        "\n",
        "Cara ringkas dan tidak repot, kita bisa membuat array dan langsung mengisinya.\n",
        "```javascript\n",
        "String[] namaMahasiswa = {\"Linda\", \"Santi\", \"Susan\", \"Mila\", \"Ayu\"};\n",
        "```\n"
      ]
    },
    {
      "cell_type": "markdown",
      "metadata": {
        "id": "shIbBkjpovlt"
      },
      "source": [
        "##9.5 Mengambil Data dari Array\n",
        "Seperti yang sudah kita ketahui, array memiliki indeks untuk memudahkan kita mengakses datanya.\n",
        "\n",
        "Karena itu, kita bisa mengambil datanya dengan cara seperti ini:\n",
        "\n",
        "\n",
        "```javascript\n",
        "// membuat array\n",
        "String[] nama = {\"Linda\", \"Santi\", \"Susan\", \"Mila\", \"Ayu\"};\n",
        "// mengambil data array\n",
        "System.out.println(nama[2]);\n",
        "```\n",
        "maka hasil outputnya adalah sebagai berikut:\n",
        "\n",
        "\n",
        "```\n",
        "Susan\n",
        "```\n",
        "\n",
        "Karena *Susan* terletak di indeks ke-2."
      ]
    },
    {
      "cell_type": "markdown",
      "metadata": {
        "id": "f7eCe-JJpb3R"
      },
      "source": [
        "## 9.6 Menggunakan Perulangan\n",
        "Mengambil data satu per satu dari array sagatlah tidak efektif, karena kita harus mengetik ulang nama array-nya dengan indeks yang berbeda.\n",
        "\n",
        "Contoh:\n",
        "\n",
        "\n",
        "```javascript\n",
        "System.out.println(teman[0]);\n",
        "System.out.println(teman[1]);\n",
        "System.out.println(teman[2]);\n",
        "System.out.println(teman[3]);\n",
        "```\n",
        "\n",
        "Bagaimana jika data suatu array ada 1000 elemen, maka kita harus mengetik kode sebanyak seribu kali.\n",
        "\n",
        "Karena itu, disinilah peran perulangan.\n",
        "\n",
        "**Program 9.1** Array dengan perulangan\n",
        "```javascript\n",
        "String dataMahasiswa = {\"Dono\", \"Kasino\", \"Indro\", \"Nanu\", \"Rudi\"};\n",
        "\n",
        "for(int i = 0; i < dataMahasiswa.length; i++ )\n",
        "{\n",
        "  System.out.println(\"Indeks ke - \"+i+\" : \"+dataMahasiswa[i])\n",
        "}\n",
        "```\n",
        "\n"
      ]
    },
    {
      "cell_type": "code",
      "execution_count": 17,
      "metadata": {
        "id": "2Z3StzAmTZb9",
        "colab": {
          "base_uri": "https://localhost:8080/"
        },
        "outputId": "7b83de26-6555-4659-ff20-708d9db4dddf"
      },
      "outputs": [
        {
          "output_type": "stream",
          "name": "stdout",
          "text": [
            "Indeks ke - 0 : Dono\n",
            "Indeks ke - 1 : Kasino\n",
            "Indeks ke - 2 : Indro\n",
            "Indeks ke - 3 : Nanu\n",
            "Indeks ke - 4 : Rudi\n"
          ]
        }
      ],
      "source": [
        "//Program 9.1 Array dengan perulangan\n",
        "\n",
        "String[] dataMahasiswa = {\"Dono\", \"Kasino\", \"Indro\", \"Nanu\", \"Rudi\"};\n",
        "\n",
        "for(int i = 0; i < dataMahasiswa.length; i++ )\n",
        "{\n",
        "  System.out.println(\"Indeks ke - \"+i+\" : \"+dataMahasiswa[i]);\n",
        "}"
      ]
    },
    {
      "cell_type": "markdown",
      "metadata": {
        "id": "macDbue6rgV0"
      },
      "source": [
        "## 9.7 Array Multi Dimensi\n",
        "Array multi dimensi artinya array yang memiliki lebih dari satu dimensi.\n",
        "\n",
        "Atau kita bisa sebut, array di dalam array.\n",
        "\n",
        "Jumlah dimensinya tidak terbatas, tergantung kita kebutuhan pengguna.\n",
        "\n",
        "Contoh berikut ini adalah array dua dimensi:\n",
        "\n",
        "\n",
        "```javascript\n",
        "String[][] kontak = {\n",
        "    {\"Lili\",\"08111\"},\n",
        "    {\"Lala\",\"08122\"},\n",
        "    {\"Maya\",\"08133\"}\n",
        "};\n",
        "# This is formatted as code\n",
        "```\n",
        "\n",
        "Indek ke-0 pada array kontak berisi array {\"Lili\",\"08111\"}.\n",
        "\n",
        "Indek ke-1 pada array kontak berisi array {\"Lala\",\"08122\"}.\n",
        "\n",
        "Indek ke-2 pada array kontak berisi array {\"Maya\",\"08111\"}.\n",
        "\n",
        "|  | 0 | 1 | \n",
        "|---|---|---|\n",
        "| 0 | \"Santi\" | \"9123\" |\n",
        "| 1 | \"Susan\" | \"9124\" |\n",
        "| 2 | \"Amir\" | \"9127\" |\n",
        "\n",
        "Berikut ini Contoh cara mengakses data dari suatu array dua dimensi:\n",
        "\n",
        "*Program 9.2* Program Array Multidimensi\n",
        "\n",
        "```javascript\n",
        "//inisialisasi array mulitidemensi\n",
        "String[][] kontak = {\n",
        "    {\"Lili\",\"08111\"},\n",
        "    {\"Lala\",\"08122\"},\n",
        "    {\"Maya\",\"08133\"}\n",
        "};\n",
        "\n",
        "      // menampilkan isi Array\n",
        "        System.out.println(\"-------------------------\");\n",
        "        for(int bar = 0; bar < kontak.length; bar++){\n",
        "            for(int kol = 0; kol < kontak[bar].length; kol++){\n",
        "                System.out.format(\"| %s \\t\", kontak[bar][kol]);\n",
        "            }\n",
        "            System.out.println(\"\");\n",
        "        }\n",
        "        System.out.println(\"-------------------------\");\n",
        "\n",
        "```"
      ]
    },
    {
      "cell_type": "code",
      "execution_count": 71,
      "metadata": {
        "id": "foehTHhXdW8P",
        "colab": {
          "base_uri": "https://localhost:8080/"
        },
        "outputId": "d92aa2d4-ceaf-4633-873f-8e3ca67500a3"
      },
      "outputs": [
        {
          "output_type": "stream",
          "name": "stdout",
          "text": [
            "-------------------------\n",
            "| Lili \t|| 08111 \t|\n",
            "| Lala \t|| 08122 \t|\n",
            "| Maya \t|| 08133 \t|\n",
            "-------------------------\n"
          ]
        }
      ],
      "source": [
        "//Program 9.2 Array Multidimensi\n",
        "\n",
        "//inisialisasi array mulitidemensi\n",
        "String[][] kontak = {\n",
        "    {\"Lili\",\"08111\"},\n",
        "    {\"Lala\",\"08122\"},\n",
        "    {\"Maya\",\"08133\"}\n",
        "};\n",
        "\n",
        "      // menampilkan isi Array\n",
        "        System.out.println(\"-------------------------\");\n",
        "        for(int bar = 0; bar < kontak.length; bar++){\n",
        "            for(int kol = 0; kol < kontak[bar].length; kol++){\n",
        "                System.out.format(\"| %s \\t|\", kontak[bar][kol]);\n",
        "            }\n",
        "            System.out.println(\"\");\n",
        "        }\n",
        "        System.out.println(\"-------------------------\");"
      ]
    },
    {
      "cell_type": "markdown",
      "metadata": {
        "id": "ScLw5BGpdW8Q"
      },
      "source": [
        ""
      ]
    },
    {
      "cell_type": "markdown",
      "metadata": {
        "id": "1BF-A0oPrBL_"
      },
      "source": [
        "## **Tugas VI**\n",
        "\n",
        "Ubahlah **Program 9.1** Array dengan perulangan menjadi array multidemensi dengan tampilan seperti berikut\n",
        "\n",
        "|  | Nama | Jenjang | Jurusan | \n",
        "|---|---|---|---|\n",
        "| 0 | \"Dono\" | \"?\" |\"?\" |\n",
        "| 1 | \"Kasino\" | \"?\" |\"?\" |\n",
        "\n",
        "Sesuaikan element nama seperti dalam program tersebut. Lengkapilah elemen lain untuk Jenjang dan Jurusan sesuai dengan kreativitas anda.\n"
      ]
    },
    {
      "cell_type": "code",
      "source": [
        "//Jawab Tugas VI\n",
        "\n",
        "//inisialisasi array mulitidemensi\n",
        "String[][] nama = {\n",
        "    {\"Dono \",\"S1\",\"Sistem Informasi\"},\n",
        "    {\"Kasino\",\"S1\",\"Informatika  \"}\n",
        "};\n",
        "\n",
        "      // menampilkan isi Array\n",
        "        System.out.println(\"-------------------------------------------------\");\n",
        "        System.out.println(\"|      Nama     ||  Jenjang  ||     Jurusan     |\");\n",
        "        System.out.println(\"-------------------------------------------------\");\n",
        "\n",
        "        for(int bar = 0; bar < nama.length; bar++){\n",
        "            for(int kol = 0; kol < nama[bar].length; kol++){\n",
        "                System.out.format(\"| %s \\t|\", nama[bar][kol]);\n",
        "            }\n",
        "            System.out.println(\"\");\n",
        "        }\n",
        "        System.out.println(\"-------------------------------------------------\");"
      ],
      "metadata": {
        "colab": {
          "base_uri": "https://localhost:8080/"
        },
        "id": "PxE15xR-jP3g",
        "outputId": "45283126-2018-486d-e0dd-f7d4b96f3de6"
      },
      "execution_count": 124,
      "outputs": [
        {
          "output_type": "stream",
          "name": "stdout",
          "text": [
            "-------------------------------------------------\n",
            "|      Nama     ||  Jenjang  ||     Jurusan     |\n",
            "-------------------------------------------------\n",
            "| Dono  \t|| S1 \t|| Sistem Informasi \t|\n",
            "| Kasino \t|| S1 \t|| Informatika   \t|\n",
            "-------------------------------------------------\n"
          ]
        }
      ]
    }
  ],
  "metadata": {
    "colab": {
      "collapsed_sections": [],
      "name": "7_array_11200464_Naffa Sefrina Ratuliu.ipynb",
      "provenance": []
    },
    "kernelspec": {
      "display_name": "Java",
      "language": "java",
      "name": "java"
    },
    "language_info": {
      "codemirror_mode": "text/x-java",
      "file_extension": ".java",
      "mimetype": "",
      "name": "Java",
      "nbconverter_exporter": "",
      "version": "15.0.2"
    },
    "toc": {
      "base_numbering": 1,
      "nav_menu": {},
      "number_sections": false,
      "sideBar": false,
      "skip_h1_title": false,
      "title_cell": "Table of Contents",
      "title_sidebar": "Contents",
      "toc_cell": false,
      "toc_position": {},
      "toc_section_display": false,
      "toc_window_display": false
    }
  },
  "nbformat": 4,
  "nbformat_minor": 0
}